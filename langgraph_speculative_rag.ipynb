{
 "cells": [
  {
   "cell_type": "code",
   "execution_count": 1,
   "metadata": {},
   "outputs": [
    {
     "name": "stderr",
     "output_type": "stream",
     "text": [
      "/home/jjmov99/speculative_rag/.venv/lib/python3.11/site-packages/tqdm/auto.py:21: TqdmWarning: IProgress not found. Please update jupyter and ipywidgets. See https://ipywidgets.readthedocs.io/en/stable/user_install.html\n",
      "  from .autonotebook import tqdm as notebook_tqdm\n"
     ]
    }
   ],
   "source": [
    "import asyncio\n",
    "from collections import defaultdict\n",
    "from operator import add\n",
    "from pathlib import Path\n",
    "from statistics import mean\n",
    "from time import perf_counter\n",
    "from typing import Annotated, Any, Literal, TypedDict\n",
    "\n",
    "import numpy as np\n",
    "from IPython.display import Image\n",
    "from langchain.prompts import ChatPromptTemplate\n",
    "from langchain.pydantic_v1 import BaseModel as LCBaseModel\n",
    "from langchain.pydantic_v1 import Field as LCField\n",
    "from langchain_core.messages import BaseMessage\n",
    "from langchain_core.runnables import RunnableSequence\n",
    "from langchain_core.tools import tool\n",
    "from langchain_openai import ChatOpenAI\n",
    "from langgraph.graph import END, StateGraph\n",
    "from langgraph.graph.state import CompiledStateGraph\n",
    "from langgraph.prebuilt import ToolNode\n",
    "from loguru import logger\n",
    "from openai import AsyncOpenAI\n",
    "from pydantic import BaseModel, Field\n",
    "from sklearn.cluster import KMeans\n",
    "from tiktoken import Encoding, encoding_for_model\n",
    "\n",
    "from qdrant_client import AsyncQdrantClient, models"
   ]
  },
  {
   "cell_type": "markdown",
   "metadata": {},
   "source": [
    "## Create the Speculative RAG tool"
   ]
  },
  {
   "cell_type": "markdown",
   "metadata": {},
   "source": [
    "#### Auxiliar functions (Same from `speculative_rag.ipynb` notebook.)"
   ]
  },
  {
   "cell_type": "code",
   "execution_count": 2,
   "metadata": {},
   "outputs": [],
   "source": [
    "def multi_perspective_sampling(\n",
    "    k: int, retrieved_points: list[models.ScoredPoint], seed: int = 1399\n",
    ") -> list[list[str]]:\n",
    "    # Generate clusters\n",
    "    logger.info(\"Finding {k} clusters.\", k=k)\n",
    "    algo: Any = KMeans(n_clusters=k, random_state=seed)\n",
    "    _vectors = [point.vector for point in retrieved_points]\n",
    "    clusters: list[int] = algo.fit_predict(X=_vectors)\n",
    "\n",
    "    # Unique clusters\n",
    "    unique_clusters: set[int] = set(clusters)\n",
    "\n",
    "    # Create a dictionary with the members of each cluster\n",
    "    cluster_dict: defaultdict[int, list[int | None]] = defaultdict(list)\n",
    "    for index, cluster in enumerate(clusters):\n",
    "        cluster_dict[cluster].append(index)\n",
    "    logger.info(\"Clusters distribution: {dist}\", dist=dict(cluster_dict))\n",
    "\n",
    "    # M subsets\n",
    "    m: int = min(len(indices) for indices in cluster_dict.values())\n",
    "    logger.info(\"{m} document subsets will be created.\", m=m)\n",
    "\n",
    "    # Generate m unique subsets without replacement\n",
    "    np.random.seed(seed=seed)\n",
    "    subsets: list[list[str]] = []\n",
    "\n",
    "    for _ in range(m):\n",
    "        subset: list[int] = []\n",
    "        for cluster in unique_clusters:\n",
    "            chosen_element: int = np.random.choice(cluster_dict[cluster])\n",
    "            subset.append(chosen_element)\n",
    "            cluster_dict[cluster].remove(chosen_element)\n",
    "        subset_documents = [\n",
    "            retrieved_points[idx].payload.get(\"content\") for idx in subset\n",
    "        ]\n",
    "        subsets.append(subset_documents)\n",
    "\n",
    "    return subsets"
   ]
  },
  {
   "cell_type": "code",
   "execution_count": 3,
   "metadata": {},
   "outputs": [],
   "source": [
    "rag_drafting_prompt: str = \"\"\"Response to the instruction. Also provide rationale for your response.\n",
    "## Instruction: {instruction}\n",
    "\n",
    "## Evidence: {evidence}\"\"\"\n",
    "\n",
    "\n",
    "class RagDraftingResponse(BaseModel):\n",
    "    rationale: str = Field(description=\"Response rationale.\")\n",
    "    response: str = Field(description=\"Response to the instruction.\")\n",
    "\n",
    "\n",
    "async def rag_drafting_generator(\n",
    "    client: AsyncOpenAI,\n",
    "    model_name: str,\n",
    "    instruction: str,\n",
    "    evidence: str,\n",
    "    **kwargs,\n",
    ") -> tuple[RagDraftingResponse, float]:\n",
    "    completion: Any = await client.beta.chat.completions.parse(\n",
    "        model=model_name,\n",
    "        messages=[\n",
    "            {\n",
    "                \"role\": \"system\",\n",
    "                \"content\": rag_drafting_prompt.format(\n",
    "                    instruction=instruction, evidence=evidence\n",
    "                ),\n",
    "            }\n",
    "        ],\n",
    "        response_format=RagDraftingResponse,\n",
    "        temperature=0.0,\n",
    "        logprobs=True,\n",
    "        max_tokens=512,\n",
    "        **kwargs,\n",
    "    )\n",
    "    return (\n",
    "        completion.choices[0].message.parsed,\n",
    "        np.exp(mean(token.logprob for token in completion.choices[0].logprobs.content)),\n",
    "    )"
   ]
  },
  {
   "cell_type": "code",
   "execution_count": 4,
   "metadata": {},
   "outputs": [],
   "source": [
    "rag_verifier_prompt: str = \"\"\"## Instruction: {instruction}\n",
    "\n",
    "## Response: {response} \n",
    "\n",
    "## Rationale: {rationale}\n",
    "\n",
    "Is the rationale good enough to support the answer? (Yes or No)\"\"\"\n",
    "\n",
    "\n",
    "async def rag_verifier_generator(\n",
    "    client: AsyncOpenAI,\n",
    "    model_name: str,\n",
    "    instruction: str,\n",
    "    evidence: str,\n",
    "    response: str,\n",
    "    rationale: str,\n",
    "    **kwargs,\n",
    ") -> tuple[Any, float]:\n",
    "    encoder: Encoding = encoding_for_model(model_name=model_name)\n",
    "    completion: Any = await client.chat.completions.create(\n",
    "        model=model_name,\n",
    "        messages=[\n",
    "            {\n",
    "                \"role\": \"system\",\n",
    "                \"content\": rag_verifier_prompt.format(\n",
    "                    instruction=instruction,\n",
    "                    evidence=evidence,\n",
    "                    response=response,\n",
    "                    rationale=rationale,\n",
    "                ),\n",
    "            }\n",
    "        ],\n",
    "        temperature=0.0,\n",
    "        logprobs=True,\n",
    "        max_tokens=2,\n",
    "        **kwargs,\n",
    "    )\n",
    "    response: str = completion.choices[0].message.content\n",
    "    cond: bool = encoder.encode(text=response.lower()) == encoder.encode(text=\"yes\")\n",
    "    p_yes: float = (\n",
    "        np.exp(mean(token.logprob for token in completion.choices[0].logprobs.content))\n",
    "        if cond\n",
    "        else 0.0\n",
    "    )  # Naive\n",
    "\n",
    "    return (response, p_yes)"
   ]
  },
  {
   "cell_type": "markdown",
   "metadata": {},
   "source": [
    "#### Tool definition"
   ]
  },
  {
   "cell_type": "code",
   "execution_count": 5,
   "metadata": {},
   "outputs": [],
   "source": [
    "# Input for the tool\n",
    "class GetRelevantInformationInput(LCBaseModel):\n",
    "    \"\"\"The input for `get_relevant_information` tool.\"\"\"\n",
    "\n",
    "    query: str = LCField(\n",
    "        description=\"Optimized version of the user query for retrieval augmented generation (RAG). Used to find and retrieve relevant documents to inform the response to the user's original question.\"\n",
    "    )"
   ]
  },
  {
   "cell_type": "code",
   "execution_count": 6,
   "metadata": {},
   "outputs": [],
   "source": [
    "@tool(\"get_relevant_information\", args_schema=GetRelevantInformationInput)\n",
    "async def speculative_rag(\n",
    "    query: str,\n",
    "    embedding_model: str = \"text-embedding-3-small\",\n",
    "    collection_name: str = \"speculative_rag\",\n",
    "    k: int = 2,\n",
    "    seed: int = 1399,\n",
    "    m_drafter: str = \"gpt-4o-mini-2024-07-18\",\n",
    "    m_verifier: str = \"gpt-4o-2024-08-06\",\n",
    ") -> str:\n",
    "    \"\"\"Retrieves relevant information from an vector database that contains information about ArXiv papers.\"\"\"\n",
    "    _start = perf_counter()\n",
    "\n",
    "    # Clients\n",
    "    path: Path = Path(\"qdrant_client\")\n",
    "    qdrant_client: AsyncQdrantClient = AsyncQdrantClient(path=path)\n",
    "    client: AsyncOpenAI = AsyncOpenAI()\n",
    "\n",
    "    # Generate query vector embedding\n",
    "    logger.info(\"Generating query vector...\")\n",
    "    _now: float = perf_counter()\n",
    "    query_vector: Any = await client.embeddings.create(\n",
    "        input=query, model=embedding_model\n",
    "    )\n",
    "    query_vector: list[float] = query_vector.data[0].embedding\n",
    "    logger.info(\"Query vector generated in {s:.4f} seconds.\", s=perf_counter() - _now)\n",
    "\n",
    "    # Fetching relevant documents\n",
    "    logger.info(\"Fetching relevant documents...\")\n",
    "    _now: float = perf_counter()\n",
    "    out: list[models.ScoredPoint] = await qdrant_client.search(\n",
    "        collection_name=collection_name, query_vector=query_vector, with_vectors=True\n",
    "    )\n",
    "    logger.info(\"Documents retrieved in {s:.4f} seconds.\", s=perf_counter() - _now)\n",
    "\n",
    "    # Multi Perspective Sampling\n",
    "    logger.info(\"Doing Multi Perspective Sampling...\")\n",
    "    _now: float = perf_counter()\n",
    "    sampled_docs: list[list[str]] = multi_perspective_sampling(\n",
    "        k=k, retrieved_points=out, seed=seed\n",
    "    )\n",
    "    logger.info(\n",
    "        \"Multi Perspective Sampling done in {s:.4f} seconds.\", s=perf_counter() - _now\n",
    "    )\n",
    "\n",
    "    # RAG Drafting\n",
    "    logger.info(\"Doing RAG Drafting...\")\n",
    "    _now: float = perf_counter()\n",
    "    rag_drafts: list[tuple[RagDraftingResponse, float]] = await asyncio.gather(\n",
    "        *[\n",
    "            rag_drafting_generator(\n",
    "                client=client,\n",
    "                model_name=m_drafter,\n",
    "                instruction=query,\n",
    "                evidence=\"\\n\".join(\n",
    "                    [f\"[{idx}] {doc}\" for idx, doc in enumerate(subset, start=1)]\n",
    "                ),\n",
    "            )\n",
    "            for subset in sampled_docs\n",
    "        ]\n",
    "    )\n",
    "    logger.info(\"RAG Drafting done in {s:.4f} seconds.\", s=perf_counter() - _now)\n",
    "\n",
    "    # RAG Verifier\n",
    "    logger.info(\"Doing RAG Verification...\")\n",
    "    _now: float = perf_counter()\n",
    "    rag_verifications: list[tuple[str, float]] = await asyncio.gather(\n",
    "        *[\n",
    "            rag_verifier_generator(\n",
    "                client=client,\n",
    "                model_name=m_verifier,\n",
    "                instruction=query,\n",
    "                evidence=\"\\n\".join(\n",
    "                    [f\"[{idx}] {doc}\" for idx, doc in enumerate(subset, start=1)]\n",
    "                ),\n",
    "                response=rag_drafting_response.response,\n",
    "                rationale=rag_drafting_response.rationale,\n",
    "            )\n",
    "            for subset, (rag_drafting_response, _) in zip(sampled_docs, rag_drafts)\n",
    "        ]\n",
    "    )\n",
    "    logger.info(\"RAG Verification done in {s:.4f} seconds.\", s=perf_counter() - _now)\n",
    "\n",
    "    best_answer: int = np.argmax(\n",
    "        p_draft * p_self\n",
    "        for (_, p_draft), (_, p_self) in zip(rag_drafts, rag_verifications)\n",
    "    )\n",
    "    logger.info(\"Entire process done in {s:.4f} seconds.\", s=perf_counter() - _start)\n",
    "    return rag_drafts[best_answer][0].response"
   ]
  },
  {
   "cell_type": "code",
   "execution_count": 7,
   "metadata": {},
   "outputs": [
    {
     "name": "stderr",
     "output_type": "stream",
     "text": [
      "\u001b[32m2024-08-27 21:41:59.387\u001b[0m | \u001b[1mINFO    \u001b[0m | \u001b[36m__main__\u001b[0m:\u001b[36mspeculative_rag\u001b[0m:\u001b[36m20\u001b[0m - \u001b[1mGenerating query vector...\u001b[0m\n",
      "\u001b[32m2024-08-27 21:41:59.746\u001b[0m | \u001b[1mINFO    \u001b[0m | \u001b[36m__main__\u001b[0m:\u001b[36mspeculative_rag\u001b[0m:\u001b[36m26\u001b[0m - \u001b[1mQuery vector generated in 0.3591 seconds.\u001b[0m\n",
      "\u001b[32m2024-08-27 21:41:59.747\u001b[0m | \u001b[1mINFO    \u001b[0m | \u001b[36m__main__\u001b[0m:\u001b[36mspeculative_rag\u001b[0m:\u001b[36m29\u001b[0m - \u001b[1mFetching relevant documents...\u001b[0m\n",
      "\u001b[32m2024-08-27 21:41:59.751\u001b[0m | \u001b[1mINFO    \u001b[0m | \u001b[36m__main__\u001b[0m:\u001b[36mspeculative_rag\u001b[0m:\u001b[36m34\u001b[0m - \u001b[1mDocuments retrieved in 0.0038 seconds.\u001b[0m\n",
      "\u001b[32m2024-08-27 21:41:59.753\u001b[0m | \u001b[1mINFO    \u001b[0m | \u001b[36m__main__\u001b[0m:\u001b[36mspeculative_rag\u001b[0m:\u001b[36m37\u001b[0m - \u001b[1mDoing Multi Perspective Sampling...\u001b[0m\n",
      "\u001b[32m2024-08-27 21:41:59.753\u001b[0m | \u001b[1mINFO    \u001b[0m | \u001b[36m__main__\u001b[0m:\u001b[36mmulti_perspective_sampling\u001b[0m:\u001b[36m5\u001b[0m - \u001b[1mFinding 2 clusters.\u001b[0m\n",
      "\u001b[32m2024-08-27 21:41:59.812\u001b[0m | \u001b[1mINFO    \u001b[0m | \u001b[36m__main__\u001b[0m:\u001b[36mmulti_perspective_sampling\u001b[0m:\u001b[36m17\u001b[0m - \u001b[1mClusters distribution: {1: [0, 2, 3, 4, 7, 8], 0: [1, 5, 6, 9]}\u001b[0m\n",
      "\u001b[32m2024-08-27 21:41:59.812\u001b[0m | \u001b[1mINFO    \u001b[0m | \u001b[36m__main__\u001b[0m:\u001b[36mmulti_perspective_sampling\u001b[0m:\u001b[36m21\u001b[0m - \u001b[1m4 document subsets will be created.\u001b[0m\n",
      "\u001b[32m2024-08-27 21:41:59.813\u001b[0m | \u001b[1mINFO    \u001b[0m | \u001b[36m__main__\u001b[0m:\u001b[36mspeculative_rag\u001b[0m:\u001b[36m42\u001b[0m - \u001b[1mMulti Perspective Sampling done in 0.0597 seconds.\u001b[0m\n",
      "\u001b[32m2024-08-27 21:41:59.813\u001b[0m | \u001b[1mINFO    \u001b[0m | \u001b[36m__main__\u001b[0m:\u001b[36mspeculative_rag\u001b[0m:\u001b[36m47\u001b[0m - \u001b[1mDoing RAG Drafting...\u001b[0m\n",
      "\u001b[32m2024-08-27 21:42:03.035\u001b[0m | \u001b[1mINFO    \u001b[0m | \u001b[36m__main__\u001b[0m:\u001b[36mspeculative_rag\u001b[0m:\u001b[36m62\u001b[0m - \u001b[1mRAG Drafting done in 3.2212 seconds.\u001b[0m\n",
      "\u001b[32m2024-08-27 21:42:03.035\u001b[0m | \u001b[1mINFO    \u001b[0m | \u001b[36m__main__\u001b[0m:\u001b[36mspeculative_rag\u001b[0m:\u001b[36m65\u001b[0m - \u001b[1mDoing RAG Verification...\u001b[0m\n",
      "\u001b[32m2024-08-27 21:42:03.846\u001b[0m | \u001b[1mINFO    \u001b[0m | \u001b[36m__main__\u001b[0m:\u001b[36mspeculative_rag\u001b[0m:\u001b[36m82\u001b[0m - \u001b[1mRAG Verification done in 0.8099 seconds.\u001b[0m\n",
      "\u001b[32m2024-08-27 21:42:03.846\u001b[0m | \u001b[1mINFO    \u001b[0m | \u001b[36m__main__\u001b[0m:\u001b[36mspeculative_rag\u001b[0m:\u001b[36m88\u001b[0m - \u001b[1mEntire process done in 4.5146 seconds.\u001b[0m\n"
     ]
    },
    {
     "data": {
      "text/plain": [
       "'Query2doc is a method designed to enhance information retrieval by leveraging large language models (LLMs) for query expansion. It operates by prompting LLMs with few-shot examples to generate pseudo-documents that are then integrated with existing sparse or dense retrieval systems. The primary goal of Query2doc is to distill the knowledge encoded in LLMs through this prompting process, thereby improving the retrieval performance across various models and datasets. Empirical evaluations have shown that this approach consistently leads to better retrieval results, although it does come with some limitations regarding efficiency and latency due to the nature of LLM inference.'"
      ]
     },
     "execution_count": 7,
     "metadata": {},
     "output_type": "execute_result"
    }
   ],
   "source": [
    "# Testing\n",
    "await speculative_rag.ainvoke({\"query\": \"What is Query2doc?\"})"
   ]
  },
  {
   "cell_type": "markdown",
   "metadata": {},
   "source": [
    "## Agent (Graph)"
   ]
  },
  {
   "cell_type": "markdown",
   "metadata": {},
   "source": [
    "#### State"
   ]
  },
  {
   "cell_type": "code",
   "execution_count": 8,
   "metadata": {},
   "outputs": [],
   "source": [
    "class AgentState(TypedDict):\n",
    "    messages: Annotated[list[BaseMessage], add]"
   ]
  },
  {
   "cell_type": "markdown",
   "metadata": {},
   "source": [
    "#### Actions"
   ]
  },
  {
   "cell_type": "code",
   "execution_count": 9,
   "metadata": {},
   "outputs": [],
   "source": [
    "async def call_model(state: AgentState) -> dict[str, list[BaseMessage]]:\n",
    "    \"\"\"Main function to invoke LLM\"\"\"\n",
    "    llm: ChatOpenAI = ChatOpenAI(\n",
    "        model=\"gpt-4o-2024-08-06\", temperature=0.0, streaming=True\n",
    "    ).bind_tools(tools=[speculative_rag])\n",
    "    prompt: ChatPromptTemplate = ChatPromptTemplate.from_messages(\n",
    "        messages=[\n",
    "            (\n",
    "                \"system\",\n",
    "                \"You are a helpful assistant. For any questions about Large Language Models (LLMs) and related use `get_relevant_information` tool.\",\n",
    "            ),\n",
    "            (\"placeholder\", \"{messages}\"),\n",
    "        ]\n",
    "    )\n",
    "    runnable: RunnableSequence = prompt | llm\n",
    "    response: BaseMessage = await runnable.ainvoke(\n",
    "        input={\"messages\": state.get(\"messages\", [])}\n",
    "    )\n",
    "    return {\"messages\": [response]}\n",
    "\n",
    "\n",
    "def should_continue(state: AgentState) -> Literal[\"speculative_rag\", END]:\n",
    "    last_message: BaseMessage = state.get(\"messages\", [])[-1]\n",
    "    if last_message.tool_calls:\n",
    "        logger.info(last_message.tool_calls)\n",
    "        return \"speculative_rag\"\n",
    "    return END"
   ]
  },
  {
   "cell_type": "markdown",
   "metadata": {},
   "source": [
    "#### Architecture"
   ]
  },
  {
   "cell_type": "code",
   "execution_count": 10,
   "metadata": {},
   "outputs": [],
   "source": [
    "uncompiled_graph: StateGraph = StateGraph(state_schema=AgentState)\n",
    "uncompiled_graph.add_node(node=\"agent\", action=call_model)\n",
    "uncompiled_graph.add_node(\n",
    "    node=\"speculative_rag\",\n",
    "    action=ToolNode(tools=[speculative_rag]),\n",
    ")\n",
    "uncompiled_graph.set_entry_point(key=\"agent\")\n",
    "uncompiled_graph.add_conditional_edges(source=\"agent\", path=should_continue)\n",
    "uncompiled_graph.add_edge(start_key=\"speculative_rag\", end_key=\"agent\")\n",
    "compiled_graph: CompiledStateGraph = uncompiled_graph.compile()"
   ]
  },
  {
   "cell_type": "code",
   "execution_count": 11,
   "metadata": {},
   "outputs": [
    {
     "data": {
      "image/jpeg": "[encoded data removed]",
      "text/plain": [
       "<IPython.core.display.Image object>"
      ]
     },
     "execution_count": 11,
     "metadata": {},
     "output_type": "execute_result"
    }
   ],
   "source": [
    "Image(compiled_graph.get_graph().draw_mermaid_png())"
   ]
  },
  {
   "cell_type": "code",
   "execution_count": 14,
   "metadata": {},
   "outputs": [
    {
     "name": "stderr",
     "output_type": "stream",
     "text": [
      "\u001b[32m2024-08-27 21:45:37.006\u001b[0m | \u001b[1mINFO    \u001b[0m | \u001b[36m__main__\u001b[0m:\u001b[36mshould_continue\u001b[0m:\u001b[36m25\u001b[0m - \u001b[1m[{'name': 'get_relevant_information', 'args': {'query': 'Query2doc'}, 'id': 'call_cFyZUW75f7Nq2B7zlptXBBtB', 'type': 'tool_call'}]\u001b[0m\n",
      "\u001b[32m2024-08-27 21:45:37.052\u001b[0m | \u001b[1mINFO    \u001b[0m | \u001b[36m__main__\u001b[0m:\u001b[36mspeculative_rag\u001b[0m:\u001b[36m20\u001b[0m - \u001b[1mGenerating query vector...\u001b[0m\n",
      "\u001b[32m2024-08-27 21:45:37.511\u001b[0m | \u001b[1mINFO    \u001b[0m | \u001b[36m__main__\u001b[0m:\u001b[36mspeculative_rag\u001b[0m:\u001b[36m26\u001b[0m - \u001b[1mQuery vector generated in 0.4582 seconds.\u001b[0m\n",
      "\u001b[32m2024-08-27 21:45:37.511\u001b[0m | \u001b[1mINFO    \u001b[0m | \u001b[36m__main__\u001b[0m:\u001b[36mspeculative_rag\u001b[0m:\u001b[36m29\u001b[0m - \u001b[1mFetching relevant documents...\u001b[0m\n",
      "\u001b[32m2024-08-27 21:45:37.513\u001b[0m | \u001b[1mINFO    \u001b[0m | \u001b[36m__main__\u001b[0m:\u001b[36mspeculative_rag\u001b[0m:\u001b[36m34\u001b[0m - \u001b[1mDocuments retrieved in 0.0013 seconds.\u001b[0m\n",
      "\u001b[32m2024-08-27 21:45:37.513\u001b[0m | \u001b[1mINFO    \u001b[0m | \u001b[36m__main__\u001b[0m:\u001b[36mspeculative_rag\u001b[0m:\u001b[36m37\u001b[0m - \u001b[1mDoing Multi Perspective Sampling...\u001b[0m\n",
      "\u001b[32m2024-08-27 21:45:37.514\u001b[0m | \u001b[1mINFO    \u001b[0m | \u001b[36m__main__\u001b[0m:\u001b[36mmulti_perspective_sampling\u001b[0m:\u001b[36m5\u001b[0m - \u001b[1mFinding 2 clusters.\u001b[0m\n",
      "\u001b[32m2024-08-27 21:45:37.517\u001b[0m | \u001b[1mINFO    \u001b[0m | \u001b[36m__main__\u001b[0m:\u001b[36mmulti_perspective_sampling\u001b[0m:\u001b[36m17\u001b[0m - \u001b[1mClusters distribution: {1: [0, 2, 3, 4, 7, 9], 0: [1, 5, 6, 8]}\u001b[0m\n",
      "\u001b[32m2024-08-27 21:45:37.521\u001b[0m | \u001b[1mINFO    \u001b[0m | \u001b[36m__main__\u001b[0m:\u001b[36mmulti_perspective_sampling\u001b[0m:\u001b[36m21\u001b[0m - \u001b[1m4 document subsets will be created.\u001b[0m\n",
      "\u001b[32m2024-08-27 21:45:37.521\u001b[0m | \u001b[1mINFO    \u001b[0m | \u001b[36m__main__\u001b[0m:\u001b[36mspeculative_rag\u001b[0m:\u001b[36m42\u001b[0m - \u001b[1mMulti Perspective Sampling done in 0.0074 seconds.\u001b[0m\n",
      "\u001b[32m2024-08-27 21:45:37.522\u001b[0m | \u001b[1mINFO    \u001b[0m | \u001b[36m__main__\u001b[0m:\u001b[36mspeculative_rag\u001b[0m:\u001b[36m47\u001b[0m - \u001b[1mDoing RAG Drafting...\u001b[0m\n",
      "\u001b[32m2024-08-27 21:45:44.001\u001b[0m | \u001b[1mINFO    \u001b[0m | \u001b[36m__main__\u001b[0m:\u001b[36mspeculative_rag\u001b[0m:\u001b[36m62\u001b[0m - \u001b[1mRAG Drafting done in 6.4785 seconds.\u001b[0m\n",
      "\u001b[32m2024-08-27 21:45:44.002\u001b[0m | \u001b[1mINFO    \u001b[0m | \u001b[36m__main__\u001b[0m:\u001b[36mspeculative_rag\u001b[0m:\u001b[36m65\u001b[0m - \u001b[1mDoing RAG Verification...\u001b[0m\n",
      "\u001b[32m2024-08-27 21:45:44.357\u001b[0m | \u001b[1mINFO    \u001b[0m | \u001b[36m__main__\u001b[0m:\u001b[36mspeculative_rag\u001b[0m:\u001b[36m82\u001b[0m - \u001b[1mRAG Verification done in 0.3548 seconds.\u001b[0m\n",
      "\u001b[32m2024-08-27 21:45:44.357\u001b[0m | \u001b[1mINFO    \u001b[0m | \u001b[36m__main__\u001b[0m:\u001b[36mspeculative_rag\u001b[0m:\u001b[36m88\u001b[0m - \u001b[1mEntire process done in 7.3480 seconds.\u001b[0m\n"
     ]
    },
    {
     "name": "stdout",
     "output_type": "stream",
     "text": [
      "Query2doc is a method that uses large language models (LLMs) for query expansion by generating pseudo-documents from the original query. This approach is designed to enhance the performance of existing retrieval systems by adding generated content. Despite its simplicity, query2doc has been shown to consistently improve retrieval outcomes across different models and datasets. However, it does introduce some challenges, such as increased latency due to the slow inference of LLMs and potentially longer search times in inverted indexes. Therefore, while it offers significant benefits, practical deployment must consider these efficiency trade-offs."
     ]
    },
    {
     "name": "stderr",
     "output_type": "stream",
     "text": [
      "\u001b[32m2024-08-27 21:45:45.650\u001b[0m | \u001b[1mINFO    \u001b[0m | \u001b[36m__main__\u001b[0m:\u001b[36m<module>\u001b[0m:\u001b[36m10\u001b[0m - \u001b[1mTime to generate response:  9.3337 seconds.\u001b[0m\n"
     ]
    }
   ],
   "source": [
    "_now = perf_counter()\n",
    "async for event in  compiled_graph.astream_events(\n",
    "    input={\"messages\": [(\"user\", \"What is Query2doc?\")]},\n",
    "    version=\"v2\"\n",
    "):\n",
    "    kind: str = event.get(\"event\")\n",
    "    if kind == \"on_chat_model_stream\":\n",
    "        if token := event.get(\"data\").get(\"chunk\").content:\n",
    "            print(token, end=\"\", flush=True) \n",
    "logger.info(\"Time to generate response:  {s:.4f} seconds.\", s=perf_counter() - _now)"
   ]
  }
 ],
 "metadata": {
  "kernelspec": {
   "display_name": ".venv",
   "language": "python",
   "name": "python3"
  },
  "language_info": {
   "codemirror_mode": {
    "name": "ipython",
    "version": 3
   },
   "file_extension": ".py",
   "mimetype": "text/x-python",
   "name": "python",
   "nbconvert_exporter": "python",
   "pygments_lexer": "ipython3",
   "version": "3.11.6"
  }
 },
 "nbformat": 4,
 "nbformat_minor": 2
}
