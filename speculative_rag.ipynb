{
 "cells": [
  {
   "cell_type": "markdown",
   "metadata": {},
   "source": [
    "## Setup"
   ]
  },
  {
   "cell_type": "code",
   "execution_count": null,
   "metadata": {},
   "outputs": [],
   "source": [
    "%pip install loguru\n",
    "%pip install qdrant-client"
   ]
  },
  {
   "cell_type": "markdown",
   "metadata": {},
   "source": [
    "#### Libraries"
   ]
  },
  {
   "cell_type": "code",
   "execution_count": null,
   "metadata": {},
   "outputs": [
    {
     "name": "stderr",
     "output_type": "stream",
     "text": [
      "c:\\Users\\Jahidul\\anaconda3\\envs\\py11\\Lib\\site-packages\\tqdm\\auto.py:21: TqdmWarning: IProgress not found. Please update jupyter and ipywidgets. See https://ipywidgets.readthedocs.io/en/stable/user_install.html\n",
      "  from .autonotebook import tqdm as notebook_tqdm\n"
     ]
    },
    {
     "name": "stdout",
     "output_type": "stream",
     "text": [
      "Requirement already satisfied: loguru in c:\\users\\jahidul\\anaconda3\\envs\\py11\\lib\\site-packages (0.7.3)\n",
      "Requirement already satisfied: colorama>=0.3.4 in c:\\users\\jahidul\\anaconda3\\envs\\py11\\lib\\site-packages (from loguru) (0.4.6)\n",
      "Requirement already satisfied: win32-setctime>=1.0.0 in c:\\users\\jahidul\\anaconda3\\envs\\py11\\lib\\site-packages (from loguru) (1.2.0)\n",
      "Note: you may need to restart the kernel to use updated packages.\n",
      "Requirement already satisfied: qdrant-client in c:\\users\\jahidul\\anaconda3\\envs\\py11\\lib\\site-packages (1.15.1)\n",
      "Requirement already satisfied: grpcio>=1.41.0 in c:\\users\\jahidul\\anaconda3\\envs\\py11\\lib\\site-packages (from qdrant-client) (1.74.0)\n",
      "Requirement already satisfied: httpx>=0.20.0 in c:\\users\\jahidul\\anaconda3\\envs\\py11\\lib\\site-packages (from httpx[http2]>=0.20.0->qdrant-client) (0.28.1)\n",
      "Requirement already satisfied: numpy>=1.21 in c:\\users\\jahidul\\anaconda3\\envs\\py11\\lib\\site-packages (from qdrant-client) (2.2.6)\n",
      "Requirement already satisfied: portalocker<4.0,>=2.7.0 in c:\\users\\jahidul\\anaconda3\\envs\\py11\\lib\\site-packages (from qdrant-client) (3.2.0)\n",
      "Requirement already satisfied: protobuf>=3.20.0 in c:\\users\\jahidul\\anaconda3\\envs\\py11\\lib\\site-packages (from qdrant-client) (6.31.1)\n",
      "Requirement already satisfied: pydantic!=2.0.*,!=2.1.*,!=2.2.0,>=1.10.8 in c:\\users\\jahidul\\anaconda3\\envs\\py11\\lib\\site-packages (from qdrant-client) (2.11.7)\n",
      "Requirement already satisfied: urllib3<3,>=1.26.14 in c:\\users\\jahidul\\anaconda3\\envs\\py11\\lib\\site-packages (from qdrant-client) (2.5.0)\n",
      "Requirement already satisfied: pywin32>=226 in c:\\users\\jahidul\\anaconda3\\envs\\py11\\lib\\site-packages (from portalocker<4.0,>=2.7.0->qdrant-client) (311)\n",
      "Requirement already satisfied: anyio in c:\\users\\jahidul\\anaconda3\\envs\\py11\\lib\\site-packages (from httpx>=0.20.0->httpx[http2]>=0.20.0->qdrant-client) (4.9.0)\n",
      "Requirement already satisfied: certifi in c:\\users\\jahidul\\anaconda3\\envs\\py11\\lib\\site-packages (from httpx>=0.20.0->httpx[http2]>=0.20.0->qdrant-client) (2025.7.14)\n",
      "Requirement already satisfied: httpcore==1.* in c:\\users\\jahidul\\anaconda3\\envs\\py11\\lib\\site-packages (from httpx>=0.20.0->httpx[http2]>=0.20.0->qdrant-client) (1.0.9)\n",
      "Requirement already satisfied: idna in c:\\users\\jahidul\\anaconda3\\envs\\py11\\lib\\site-packages (from httpx>=0.20.0->httpx[http2]>=0.20.0->qdrant-client) (3.10)\n",
      "Requirement already satisfied: h11>=0.16 in c:\\users\\jahidul\\anaconda3\\envs\\py11\\lib\\site-packages (from httpcore==1.*->httpx>=0.20.0->httpx[http2]>=0.20.0->qdrant-client) (0.16.0)\n",
      "Requirement already satisfied: h2<5,>=3 in c:\\users\\jahidul\\anaconda3\\envs\\py11\\lib\\site-packages (from httpx[http2]>=0.20.0->qdrant-client) (4.3.0)\n",
      "Requirement already satisfied: hyperframe<7,>=6.1 in c:\\users\\jahidul\\anaconda3\\envs\\py11\\lib\\site-packages (from h2<5,>=3->httpx[http2]>=0.20.0->qdrant-client) (6.1.0)\n",
      "Requirement already satisfied: hpack<5,>=4.1 in c:\\users\\jahidul\\anaconda3\\envs\\py11\\lib\\site-packages (from h2<5,>=3->httpx[http2]>=0.20.0->qdrant-client) (4.1.0)\n",
      "Requirement already satisfied: annotated-types>=0.6.0 in c:\\users\\jahidul\\anaconda3\\envs\\py11\\lib\\site-packages (from pydantic!=2.0.*,!=2.1.*,!=2.2.0,>=1.10.8->qdrant-client) (0.7.0)\n",
      "Requirement already satisfied: pydantic-core==2.33.2 in c:\\users\\jahidul\\anaconda3\\envs\\py11\\lib\\site-packages (from pydantic!=2.0.*,!=2.1.*,!=2.2.0,>=1.10.8->qdrant-client) (2.33.2)\n",
      "Requirement already satisfied: typing-extensions>=4.12.2 in c:\\users\\jahidul\\anaconda3\\envs\\py11\\lib\\site-packages (from pydantic!=2.0.*,!=2.1.*,!=2.2.0,>=1.10.8->qdrant-client) (4.14.1)\n",
      "Requirement already satisfied: typing-inspection>=0.4.0 in c:\\users\\jahidul\\anaconda3\\envs\\py11\\lib\\site-packages (from pydantic!=2.0.*,!=2.1.*,!=2.2.0,>=1.10.8->qdrant-client) (0.4.1)\n",
      "Requirement already satisfied: sniffio>=1.1 in c:\\users\\jahidul\\anaconda3\\envs\\py11\\lib\\site-packages (from anyio->httpx>=0.20.0->httpx[http2]>=0.20.0->qdrant-client) (1.3.1)\n",
      "Note: you may need to restart the kernel to use updated packages.\n"
     ]
    }
   ],
   "source": [
    "import asyncio\n",
    "import json\n",
    "from collections import defaultdict\n",
    "from pathlib import Path\n",
    "from statistics import mean\n",
    "from time import perf_counter\n",
    "from typing import Any\n",
    "from uuid import uuid4\n",
    "\n",
    "import numpy as np\n",
    "from datasets import Dataset, load_dataset\n",
    "\n",
    "from loguru import logger\n",
    "from openai import AsyncOpenAI\n",
    "from pydantic import BaseModel, Field\n",
    "from sklearn.cluster import KMeans\n",
    "from tiktoken import Encoding, encoding_for_model, get_encoding\n",
    "\n",
    "\n",
    "from qdrant_client import AsyncQdrantClient, models"
   ]
  },
  {
   "cell_type": "markdown",
   "metadata": {},
   "source": [
    "## 1. Create Qdrant collection and retriever"
   ]
  },
  {
   "cell_type": "markdown",
   "metadata": {},
   "source": [
    "#### Initialize Clients"
   ]
  },
  {
   "cell_type": "code",
   "execution_count": 14,
   "metadata": {},
   "outputs": [
    {
     "ename": "RuntimeError",
     "evalue": "Storage folder qdrant_client is already accessed by another instance of Qdrant client. If you require concurrent access, use Qdrant server instead.",
     "output_type": "error",
     "traceback": [
      "\u001b[31m---------------------------------------------------------------------------\u001b[39m",
      "\u001b[31mPermissionError\u001b[39m                           Traceback (most recent call last)",
      "\u001b[36mFile \u001b[39m\u001b[32mc:\\Users\\Jahidul\\anaconda3\\envs\\py11\\Lib\\site-packages\\portalocker\\portalocker.py:223\u001b[39m, in \u001b[36mMsvcrtLocker.lock\u001b[39m\u001b[34m(self, file_obj, flags)\u001b[39m\n\u001b[32m    222\u001b[39m \u001b[38;5;28;01mtry\u001b[39;00m:\n\u001b[32m--> \u001b[39m\u001b[32m223\u001b[39m     \u001b[43mmsvcrt\u001b[49m\u001b[43m.\u001b[49m\u001b[43mlocking\u001b[49m\u001b[43m(\u001b[49m\u001b[43m  \u001b[49m\u001b[38;5;66;43;03m# type: ignore[attr-defined]\u001b[39;49;00m\n\u001b[32m    224\u001b[39m \u001b[43m        \u001b[49m\u001b[43mfd\u001b[49m\u001b[43m,\u001b[49m\n\u001b[32m    225\u001b[39m \u001b[43m        \u001b[49m\u001b[43mmode\u001b[49m\u001b[43m,\u001b[49m\n\u001b[32m    226\u001b[39m \u001b[43m        \u001b[49m\u001b[38;5;28;43mself\u001b[39;49m\u001b[43m.\u001b[49m\u001b[43m_msvcrt_lock_length\u001b[49m\u001b[43m,\u001b[49m\n\u001b[32m    227\u001b[39m \u001b[43m    \u001b[49m\u001b[43m)\u001b[49m\n\u001b[32m    228\u001b[39m \u001b[38;5;28;01mexcept\u001b[39;00m \u001b[38;5;167;01mOSError\u001b[39;00m \u001b[38;5;28;01mas\u001b[39;00m exc_value:\n",
      "\u001b[31mPermissionError\u001b[39m: [Errno 13] Permission denied",
      "\nThe above exception was the direct cause of the following exception:\n",
      "\u001b[31mAlreadyLocked\u001b[39m                             Traceback (most recent call last)",
      "\u001b[36mFile \u001b[39m\u001b[32mc:\\Users\\Jahidul\\anaconda3\\envs\\py11\\Lib\\site-packages\\qdrant_client\\local\\async_qdrant_local.py:125\u001b[39m, in \u001b[36mAsyncQdrantLocal._load\u001b[39m\u001b[34m(self)\u001b[39m\n\u001b[32m    124\u001b[39m \u001b[38;5;28;01mtry\u001b[39;00m:\n\u001b[32m--> \u001b[39m\u001b[32m125\u001b[39m     \u001b[43mportalocker\u001b[49m\u001b[43m.\u001b[49m\u001b[43mlock\u001b[49m\u001b[43m(\u001b[49m\n\u001b[32m    126\u001b[39m \u001b[43m        \u001b[49m\u001b[38;5;28;43mself\u001b[39;49m\u001b[43m.\u001b[49m\u001b[43m_flock_file\u001b[49m\u001b[43m,\u001b[49m\n\u001b[32m    127\u001b[39m \u001b[43m        \u001b[49m\u001b[43mportalocker\u001b[49m\u001b[43m.\u001b[49m\u001b[43mLockFlags\u001b[49m\u001b[43m.\u001b[49m\u001b[43mEXCLUSIVE\u001b[49m\u001b[43m \u001b[49m\u001b[43m|\u001b[49m\u001b[43m \u001b[49m\u001b[43mportalocker\u001b[49m\u001b[43m.\u001b[49m\u001b[43mLockFlags\u001b[49m\u001b[43m.\u001b[49m\u001b[43mNON_BLOCKING\u001b[49m\u001b[43m,\u001b[49m\n\u001b[32m    128\u001b[39m \u001b[43m    \u001b[49m\u001b[43m)\u001b[49m\n\u001b[32m    129\u001b[39m \u001b[38;5;28;01mexcept\u001b[39;00m portalocker.exceptions.LockException:\n",
      "\u001b[36mFile \u001b[39m\u001b[32mc:\\Users\\Jahidul\\anaconda3\\envs\\py11\\Lib\\site-packages\\portalocker\\portalocker.py:316\u001b[39m, in \u001b[36mlock\u001b[39m\u001b[34m(file, flags)\u001b[39m\n\u001b[32m    310\u001b[39m     \u001b[38;5;28;01mraise\u001b[39;00m \u001b[38;5;167;01mTypeError\u001b[39;00m(\n\u001b[32m    311\u001b[39m         \u001b[33mf\u001b[39m\u001b[33m'\u001b[39m\u001b[33mLOCKER must be a BaseLocker instance, a tuple of lock and \u001b[39m\u001b[33m'\u001b[39m\n\u001b[32m    312\u001b[39m         \u001b[33mf\u001b[39m\u001b[33m'\u001b[39m\u001b[33munlock functions, or a subclass of BaseLocker, \u001b[39m\u001b[33m'\u001b[39m\n\u001b[32m    313\u001b[39m         \u001b[33mf\u001b[39m\u001b[33m'\u001b[39m\u001b[33mgot \u001b[39m\u001b[38;5;132;01m{\u001b[39;00m\u001b[38;5;28mtype\u001b[39m(LOCKER)\u001b[38;5;132;01m}\u001b[39;00m\u001b[33m.\u001b[39m\u001b[33m'\u001b[39m\n\u001b[32m    314\u001b[39m     )\n\u001b[32m--> \u001b[39m\u001b[32m316\u001b[39m \u001b[43mlocker\u001b[49m\u001b[43m(\u001b[49m\u001b[43mfile\u001b[49m\u001b[43m,\u001b[49m\u001b[43m \u001b[49m\u001b[43mflags\u001b[49m\u001b[43m)\u001b[49m\n",
      "\u001b[36mFile \u001b[39m\u001b[32mc:\\Users\\Jahidul\\anaconda3\\envs\\py11\\Lib\\site-packages\\portalocker\\portalocker.py:230\u001b[39m, in \u001b[36mMsvcrtLocker.lock\u001b[39m\u001b[34m(self, file_obj, flags)\u001b[39m\n\u001b[32m    229\u001b[39m \u001b[38;5;28;01mif\u001b[39;00m exc_value.errno \u001b[38;5;129;01min\u001b[39;00m (\u001b[32m13\u001b[39m, \u001b[32m16\u001b[39m, \u001b[32m33\u001b[39m, \u001b[32m36\u001b[39m):\n\u001b[32m--> \u001b[39m\u001b[32m230\u001b[39m     \u001b[38;5;28;01mraise\u001b[39;00m exceptions.AlreadyLocked(\n\u001b[32m    231\u001b[39m         exceptions.LockException.LOCK_FAILED,\n\u001b[32m    232\u001b[39m         \u001b[38;5;28mstr\u001b[39m(exc_value),\n\u001b[32m    233\u001b[39m         fh=file_obj,  \u001b[38;5;66;03m# Pass original file_obj\u001b[39;00m\n\u001b[32m    234\u001b[39m     ) \u001b[38;5;28;01mfrom\u001b[39;00m\u001b[38;5;250m \u001b[39m\u001b[34;01mexc_value\u001b[39;00m\n\u001b[32m    235\u001b[39m \u001b[38;5;28;01mraise\u001b[39;00m exceptions.LockException(\n\u001b[32m    236\u001b[39m     exceptions.LockException.LOCK_FAILED,\n\u001b[32m    237\u001b[39m     \u001b[38;5;28mstr\u001b[39m(exc_value),\n\u001b[32m    238\u001b[39m     fh=file_obj,  \u001b[38;5;66;03m# Pass original file_obj\u001b[39;00m\n\u001b[32m    239\u001b[39m ) \u001b[38;5;28;01mfrom\u001b[39;00m\u001b[38;5;250m \u001b[39m\u001b[34;01mexc_value\u001b[39;00m\n",
      "\u001b[31mAlreadyLocked\u001b[39m: (1, '[Errno 13] Permission denied')",
      "\nDuring handling of the above exception, another exception occurred:\n",
      "\u001b[31mRuntimeError\u001b[39m                              Traceback (most recent call last)",
      "\u001b[36mCell\u001b[39m\u001b[36m \u001b[39m\u001b[32mIn[14]\u001b[39m\u001b[32m, line 3\u001b[39m\n\u001b[32m      1\u001b[39m \u001b[38;5;66;03m# Qdrant Client\u001b[39;00m\n\u001b[32m      2\u001b[39m path: Path = Path(\u001b[33m\"\u001b[39m\u001b[33mqdrant_client\u001b[39m\u001b[33m\"\u001b[39m)\n\u001b[32m----> \u001b[39m\u001b[32m3\u001b[39m qdrant_client: AsyncQdrantClient = \u001b[43mAsyncQdrantClient\u001b[49m\u001b[43m(\u001b[49m\u001b[43mpath\u001b[49m\u001b[43m=\u001b[49m\u001b[43mpath\u001b[49m\u001b[43m)\u001b[49m\n",
      "\u001b[36mFile \u001b[39m\u001b[32mc:\\Users\\Jahidul\\anaconda3\\envs\\py11\\Lib\\site-packages\\qdrant_client\\async_qdrant_client.py:120\u001b[39m, in \u001b[36mAsyncQdrantClient.__init__\u001b[39m\u001b[34m(self, location, url, port, grpc_port, prefer_grpc, https, api_key, prefix, timeout, host, path, force_disable_check_same_thread, grpc_options, auth_token_provider, cloud_inference, local_inference_batch_size, check_compatibility, **kwargs)\u001b[39m\n\u001b[32m    116\u001b[39m     \u001b[38;5;28mself\u001b[39m._client = AsyncQdrantLocal(\n\u001b[32m    117\u001b[39m         location=location, force_disable_check_same_thread=force_disable_check_same_thread\n\u001b[32m    118\u001b[39m     )\n\u001b[32m    119\u001b[39m \u001b[38;5;28;01melif\u001b[39;00m path \u001b[38;5;129;01mis\u001b[39;00m \u001b[38;5;129;01mnot\u001b[39;00m \u001b[38;5;28;01mNone\u001b[39;00m:\n\u001b[32m--> \u001b[39m\u001b[32m120\u001b[39m     \u001b[38;5;28mself\u001b[39m._client = \u001b[43mAsyncQdrantLocal\u001b[49m\u001b[43m(\u001b[49m\n\u001b[32m    121\u001b[39m \u001b[43m        \u001b[49m\u001b[43mlocation\u001b[49m\u001b[43m=\u001b[49m\u001b[43mpath\u001b[49m\u001b[43m,\u001b[49m\u001b[43m \u001b[49m\u001b[43mforce_disable_check_same_thread\u001b[49m\u001b[43m=\u001b[49m\u001b[43mforce_disable_check_same_thread\u001b[49m\n\u001b[32m    122\u001b[39m \u001b[43m    \u001b[49m\u001b[43m)\u001b[49m\n\u001b[32m    123\u001b[39m \u001b[38;5;28;01melse\u001b[39;00m:\n\u001b[32m    124\u001b[39m     \u001b[38;5;28;01mif\u001b[39;00m location \u001b[38;5;129;01mis\u001b[39;00m \u001b[38;5;129;01mnot\u001b[39;00m \u001b[38;5;28;01mNone\u001b[39;00m \u001b[38;5;129;01mand\u001b[39;00m url \u001b[38;5;129;01mis\u001b[39;00m \u001b[38;5;28;01mNone\u001b[39;00m:\n",
      "\u001b[36mFile \u001b[39m\u001b[32mc:\\Users\\Jahidul\\anaconda3\\envs\\py11\\Lib\\site-packages\\qdrant_client\\local\\async_qdrant_local.py:66\u001b[39m, in \u001b[36mAsyncQdrantLocal.__init__\u001b[39m\u001b[34m(self, location, force_disable_check_same_thread)\u001b[39m\n\u001b[32m     64\u001b[39m \u001b[38;5;28mself\u001b[39m.aliases: \u001b[38;5;28mdict\u001b[39m[\u001b[38;5;28mstr\u001b[39m, \u001b[38;5;28mstr\u001b[39m] = {}\n\u001b[32m     65\u001b[39m \u001b[38;5;28mself\u001b[39m._flock_file: Optional[TextIOWrapper] = \u001b[38;5;28;01mNone\u001b[39;00m\n\u001b[32m---> \u001b[39m\u001b[32m66\u001b[39m \u001b[38;5;28;43mself\u001b[39;49m\u001b[43m.\u001b[49m\u001b[43m_load\u001b[49m\u001b[43m(\u001b[49m\u001b[43m)\u001b[49m\n\u001b[32m     67\u001b[39m \u001b[38;5;28mself\u001b[39m._closed: \u001b[38;5;28mbool\u001b[39m = \u001b[38;5;28;01mFalse\u001b[39;00m\n",
      "\u001b[36mFile \u001b[39m\u001b[32mc:\\Users\\Jahidul\\anaconda3\\envs\\py11\\Lib\\site-packages\\qdrant_client\\local\\async_qdrant_local.py:130\u001b[39m, in \u001b[36mAsyncQdrantLocal._load\u001b[39m\u001b[34m(self)\u001b[39m\n\u001b[32m    125\u001b[39m     portalocker.lock(\n\u001b[32m    126\u001b[39m         \u001b[38;5;28mself\u001b[39m._flock_file,\n\u001b[32m    127\u001b[39m         portalocker.LockFlags.EXCLUSIVE | portalocker.LockFlags.NON_BLOCKING,\n\u001b[32m    128\u001b[39m     )\n\u001b[32m    129\u001b[39m \u001b[38;5;28;01mexcept\u001b[39;00m portalocker.exceptions.LockException:\n\u001b[32m--> \u001b[39m\u001b[32m130\u001b[39m     \u001b[38;5;28;01mraise\u001b[39;00m \u001b[38;5;167;01mRuntimeError\u001b[39;00m(\n\u001b[32m    131\u001b[39m         \u001b[33mf\u001b[39m\u001b[33m\"\u001b[39m\u001b[33mStorage folder \u001b[39m\u001b[38;5;132;01m{\u001b[39;00m\u001b[38;5;28mself\u001b[39m.location\u001b[38;5;132;01m}\u001b[39;00m\u001b[33m is already accessed by another instance of Qdrant client. If you require concurrent access, use Qdrant server instead.\u001b[39m\u001b[33m\"\u001b[39m\n\u001b[32m    132\u001b[39m     )\n",
      "\u001b[31mRuntimeError\u001b[39m: Storage folder qdrant_client is already accessed by another instance of Qdrant client. If you require concurrent access, use Qdrant server instead."
     ]
    }
   ],
   "source": [
    "# Qdrant Client\n",
    "path: Path = Path(\"qdrant_client\")\n",
    "qdrant_client: AsyncQdrantClient = AsyncQdrantClient(path=path)"
   ]
  },
  {
   "cell_type": "code",
   "execution_count": 3,
   "metadata": {},
   "outputs": [],
   "source": [
    "# OpenAI Client\n",
    "openai_client: AsyncOpenAI = AsyncOpenAI()"
   ]
  },
  {
   "cell_type": "markdown",
   "metadata": {},
   "source": [
    "#### Create collection"
   ]
  },
  {
   "cell_type": "code",
   "execution_count": 4,
   "metadata": {},
   "outputs": [],
   "source": [
    "# Embeddings specs\n",
    "embedding_model: str = \"text-embedding-3-small\"\n",
    "dimension: int = 1536\n",
    "collection_name: str = \"speculative_rag\""
   ]
  },
  {
   "cell_type": "code",
   "execution_count": 5,
   "metadata": {},
   "outputs": [
    {
     "name": "stderr",
     "output_type": "stream",
     "text": [
      "\u001b[32m2025-09-11 18:21:57.279\u001b[0m | \u001b[1mINFO    \u001b[0m | \u001b[36m__main__\u001b[0m:\u001b[36m<module>\u001b[0m:\u001b[36m15\u001b[0m - \u001b[1mCollection speculative_rag already exists, skipping creation.\u001b[0m\n"
     ]
    }
   ],
   "source": [
    "# Get existing collections\n",
    "current_collections: models.CollectionsResponse = await qdrant_client.get_collections()\n",
    "\n",
    "# Create collection\n",
    "if collection_name not in [col.name for col in current_collections.collections]:\n",
    "    logger.info(\"Collection {col} doesn't exist. Creating...\", col=collection_name)\n",
    "    await qdrant_client.create_collection(\n",
    "        collection_name=collection_name,\n",
    "        vectors_config=models.VectorParams(\n",
    "            size=dimension, distance=models.Distance.DOT\n",
    "        ),\n",
    "    )\n",
    "    logger.info(\"Collection {col} created!\", col=collection_name)\n",
    "else:\n",
    "    logger.info(\n",
    "        \"Collection {col} already exists, skipping creation.\", col=collection_name\n",
    "    )"
   ]
  },
  {
   "cell_type": "markdown",
   "metadata": {},
   "source": [
    "#### Load dataset"
   ]
  },
  {
   "cell_type": "code",
   "execution_count": 6,
   "metadata": {},
   "outputs": [
    {
     "name": "stdout",
     "output_type": "stream",
     "text": [
      "{\n",
      "    \"id\": \"2401.04088#0\",\n",
      "    \"title\": \"Mixtral of Experts\",\n",
      "    \"content\": \"4 2 0 2 n a J 8 ] G L . s c [ 1 v 8 8 0 4 0 . 1 0 4 2 : v i X r a # Mixtral of Experts Albert Q. Jiang, Alexandre Sablayrolles, Antoine Roux, Arthur Mensch, Blanche Savary, Chris Bamford, Devendra Singh Chaplot, Diego de las Casas, Emma Bou Hanna, Florian Bressand, Gianna Lengyel, Guillaume Bour, Guillaume Lample, L\\u00c3\\u00a9lio Renard Lavaud, Lucile Saulnier, Marie-Anne Lachaux, Pierre Stock, Sandeep Subramanian, Sophia Yang, Szymon Antoniak, Teven Le Scao, Th\\u00c3\\u00a9ophile Gervet, Thibaut Lavril, Thomas Wang, Timoth\\u00c3\\u00a9e Lacroix, William El Sayed Abstract We introduce Mixtral 8x7B, a Sparse Mixture of Experts (SMoE) language model. Mixtral has the same architecture as Mistral 7B, with the difference that each layer is composed of 8 feedforward blocks (i.e. experts). For every token, at each layer, a router network selects two experts to process the current state and combine their outputs. Even though each token only sees two experts, the selected experts can be different at each timestep. As a result, each token has access to 47B parameters, but only uses 13B active parameters during inference. Mixtral was trained with a context size of 32k tokens and it outperforms or matches Llama 2 70B and GPT-3.5 across all evaluated benchmarks. In particular, Mixtral vastly outperforms Llama 2 70B on mathematics, code generation, and multilingual benchmarks. We also provide a model fine- tuned to follow instructions, Mixtral 8x7B \\u00e2 Instruct, that surpasses GPT-3.5 Turbo, Claude-2.1, Gemini Pro, and Llama 2 70B \\u00e2 chat model on human bench- marks. Both the base and instruct models are released under the Apache 2.0 license.\",\n",
      "    \"prechunk_id\": \"\",\n",
      "    \"postchunk_id\": \"2401.04088#1\",\n",
      "    \"arxiv_id\": \"2401.04088\",\n",
      "    \"references\": [\n",
      "        \"1905.07830\"\n",
      "    ]\n",
      "}\n"
     ]
    }
   ],
   "source": [
    "# Load dataset\n",
    "dataset: Dataset = load_dataset(\n",
    "    path=\"jamescalam/ai-arxiv2-semantic-chunks\", split=\"train\"\n",
    ")\n",
    "print(json.dumps(dataset[0], indent=4))"
   ]
  },
  {
   "cell_type": "code",
   "execution_count": 7,
   "metadata": {},
   "outputs": [],
   "source": [
    "# Using only 50k rows\n",
    "rows_to_keep: int = 50_000\n",
    "\n",
    "# Easier to handle as pandas df\n",
    "records: list[dict[str, Any]] = (\n",
    "    dataset.to_pandas().iloc[:rows_to_keep].to_dict(orient=\"records\")\n",
    ")"
   ]
  },
  {
   "cell_type": "code",
   "execution_count": 8,
   "metadata": {},
   "outputs": [
    {
     "data": {
      "text/plain": [
       "{'id': '2401.04088#0',\n",
       " 'title': 'Mixtral of Experts',\n",
       " 'content': '4 2 0 2 n a J 8 ] G L . s c [ 1 v 8 8 0 4 0 . 1 0 4 2 : v i X r a # Mixtral of Experts Albert Q. Jiang, Alexandre Sablayrolles, Antoine Roux, Arthur Mensch, Blanche Savary, Chris Bamford, Devendra Singh Chaplot, Diego de las Casas, Emma Bou Hanna, Florian Bressand, Gianna Lengyel, Guillaume Bour, Guillaume Lample, LÃ©lio Renard Lavaud, Lucile Saulnier, Marie-Anne Lachaux, Pierre Stock, Sandeep Subramanian, Sophia Yang, Szymon Antoniak, Teven Le Scao, ThÃ©ophile Gervet, Thibaut Lavril, Thomas Wang, TimothÃ©e Lacroix, William El Sayed Abstract We introduce Mixtral 8x7B, a Sparse Mixture of Experts (SMoE) language model. Mixtral has the same architecture as Mistral 7B, with the difference that each layer is composed of 8 feedforward blocks (i.e. experts). For every token, at each layer, a router network selects two experts to process the current state and combine their outputs. Even though each token only sees two experts, the selected experts can be different at each timestep. As a result, each token has access to 47B parameters, but only uses 13B active parameters during inference. Mixtral was trained with a context size of 32k tokens and it outperforms or matches Llama 2 70B and GPT-3.5 across all evaluated benchmarks. In particular, Mixtral vastly outperforms Llama 2 70B on mathematics, code generation, and multilingual benchmarks. We also provide a model fine- tuned to follow instructions, Mixtral 8x7B â Instruct, that surpasses GPT-3.5 Turbo, Claude-2.1, Gemini Pro, and Llama 2 70B â chat model on human bench- marks. Both the base and instruct models are released under the Apache 2.0 license.',\n",
       " 'prechunk_id': '',\n",
       " 'postchunk_id': '2401.04088#1',\n",
       " 'arxiv_id': '2401.04088',\n",
       " 'references': array(['1905.07830'], dtype=object)}"
      ]
     },
     "execution_count": 8,
     "metadata": {},
     "output_type": "execute_result"
    }
   ],
   "source": [
    "records[0]"
   ]
  },
  {
   "cell_type": "markdown",
   "metadata": {},
   "source": [
    "#### Upload information to Qdrant (run only once!)"
   ]
  },
  {
   "cell_type": "code",
   "execution_count": 9,
   "metadata": {},
   "outputs": [],
   "source": [
    "# Auxiliar functions to prepare the Points\n",
    "async def create_point(\n",
    "    client: AsyncOpenAI,\n",
    "    example: dict[str, Any],\n",
    "    model: str,\n",
    "    encoding_name: str,\n",
    "    max_context_len: int,\n",
    ") -> models.PointStruct:\n",
    "    \"\"\"Creates a Point that contains the payload and the vector.\"\"\"\n",
    "\n",
    "    encoding: Encoding = get_encoding(encoding_name=encoding_name)\n",
    "\n",
    "    embedding_result: Any = await client.embeddings.create(\n",
    "        input=encoding.encode(text=example.get(\"content\"), disallowed_special=())[\n",
    "            :max_context_len\n",
    "        ],\n",
    "        model=model,\n",
    "    )\n",
    "    vector: list[float] = embedding_result.data[0].embedding\n",
    "\n",
    "    return models.PointStruct(\n",
    "        id=str(uuid4()),\n",
    "        vector=vector,\n",
    "        payload=dict(\n",
    "            chunk_id=example.get(\"id\"),\n",
    "            arxiv_id=example.get(\"arxiv_id\"),\n",
    "            title=example.get(\"title\"),\n",
    "            content=example.get(\"content\"),\n",
    "            prechunk_id=example.get(\"prechunk_id\"),\n",
    "            postchunk_id=example.get(\"postchunk_id\"),\n",
    "            references=example.get(\"references\").tolist(),\n",
    "        ),\n",
    "    )\n",
    "\n",
    "\n",
    "async def process_batch(\n",
    "    client: AsyncOpenAI,\n",
    "    batch: list[dict[str, Any]],\n",
    "    model: str,\n",
    "    encoding_name: str,\n",
    "    max_context_len: int,\n",
    ") -> list[models.PointStruct]:\n",
    "    \"\"\"Processes a batch of examples to create PointStructs.\"\"\"\n",
    "    return await asyncio.gather(\n",
    "        *[\n",
    "            create_point(\n",
    "                client=client,\n",
    "                example=example,\n",
    "                model=model,\n",
    "                encoding_name=encoding_name,\n",
    "                max_context_len=max_context_len,\n",
    "            )\n",
    "            for example in batch\n",
    "        ]\n",
    "    )\n"
   ]
  },
  {
   "cell_type": "code",
   "execution_count": 10,
   "metadata": {},
   "outputs": [],
   "source": [
    "# batch_size: int = 512\n",
    "# max_context_len: int = 8192\n",
    "# encoding_name: str = \"cl100k_base\"\n",
    "# total_batches: int = len(records) // batch_size\n",
    "# all_points: list[models.PointStruct | None] = []\n",
    "\n",
    "# _now: float = perf_counter()\n",
    "# for i in tqdm(range(0, len(records), batch_size), total=total_batches, desc=\"Points\"):\n",
    "#     batch: list[dict[str, Any]] = records[i : i + batch_size]\n",
    "#     points: list[models.PointStruct] = await process_batch(\n",
    "#         client=openai_client,\n",
    "#         batch=batch,\n",
    "#         model=embedding_model,\n",
    "#         encoding_name=encoding_name,\n",
    "#         max_context_len=max_context_len,\n",
    "#     )\n",
    "#     all_points.extend(points)\n",
    "# logger.info(\"Generated all Points in {secs:.4f} seconds.\", secs=perf_counter() - _now)"
   ]
  },
  {
   "cell_type": "code",
   "execution_count": 11,
   "metadata": {},
   "outputs": [],
   "source": [
    "# Upsert Points\n",
    "# await qdrant_client.upsert(collection_name=collection_name, points=points)"
   ]
  },
  {
   "cell_type": "markdown",
   "metadata": {},
   "source": [
    "#### testing vector search"
   ]
  },
  {
   "cell_type": "code",
   "execution_count": 12,
   "metadata": {},
   "outputs": [
    {
     "name": "stderr",
     "output_type": "stream",
     "text": [
      "C:\\Users\\Jahidul\\AppData\\Local\\Temp\\ipykernel_10652\\4214118903.py:6: DeprecationWarning: `search` method is deprecated and will be removed in the future. Use `query_points` instead.\n",
      "  out: list[models.ScoredPoint] = await qdrant_client.search(\n"
     ]
    }
   ],
   "source": [
    "query: str = \"Mixture of Experts\"\n",
    "query_vector: Any = await openai_client.embeddings.create(\n",
    "    input=query, model=embedding_model\n",
    ")\n",
    "query_vector: list[float] = query_vector.data[0].embedding\n",
    "out: list[models.ScoredPoint] = await qdrant_client.search(\n",
    "    collection_name=collection_name, query_vector=query_vector, with_vectors=True\n",
    ")"
   ]
  },
  {
   "cell_type": "code",
   "execution_count": 13,
   "metadata": {},
   "outputs": [
    {
     "ename": "IndexError",
     "evalue": "list index out of range",
     "output_type": "error",
     "traceback": [
      "\u001b[31m---------------------------------------------------------------------------\u001b[39m",
      "\u001b[31mIndexError\u001b[39m                                Traceback (most recent call last)",
      "\u001b[36mCell\u001b[39m\u001b[36m \u001b[39m\u001b[32mIn[13]\u001b[39m\u001b[32m, line 1\u001b[39m\n\u001b[32m----> \u001b[39m\u001b[32m1\u001b[39m \u001b[38;5;28mprint\u001b[39m(\u001b[33mf\u001b[39m\u001b[33m\"\u001b[39m\u001b[33mId: \u001b[39m\u001b[38;5;132;01m{\u001b[39;00m\u001b[43mout\u001b[49m\u001b[43m[\u001b[49m\u001b[32;43m0\u001b[39;49m\u001b[43m]\u001b[49m.id\u001b[38;5;132;01m}\u001b[39;00m\u001b[33m\"\u001b[39m)\n\u001b[32m      2\u001b[39m \u001b[38;5;28mprint\u001b[39m(\u001b[33mf\u001b[39m\u001b[33m\"\u001b[39m\u001b[33mScore: \u001b[39m\u001b[38;5;132;01m{\u001b[39;00mout[\u001b[32m0\u001b[39m].score\u001b[38;5;132;01m:\u001b[39;00m\u001b[33m.3\u001b[39m\u001b[38;5;132;01m}\u001b[39;00m\u001b[33m\"\u001b[39m)\n\u001b[32m      3\u001b[39m \u001b[38;5;28mprint\u001b[39m(\u001b[33mf\u001b[39m\u001b[33m\"\u001b[39m\u001b[33mTitle: \u001b[39m\u001b[38;5;132;01m{\u001b[39;00mout[\u001b[32m0\u001b[39m].payload.get(\u001b[33m'\u001b[39m\u001b[33mtitle\u001b[39m\u001b[33m'\u001b[39m)\u001b[38;5;132;01m}\u001b[39;00m\u001b[33m [\u001b[39m\u001b[38;5;132;01m{\u001b[39;00mout[\u001b[32m0\u001b[39m].payload.get(\u001b[33m'\u001b[39m\u001b[33marxiv_id\u001b[39m\u001b[33m'\u001b[39m)\u001b[38;5;132;01m}\u001b[39;00m\u001b[33m]\u001b[39m\u001b[33m\"\u001b[39m)\n",
      "\u001b[31mIndexError\u001b[39m: list index out of range"
     ]
    }
   ],
   "source": [
    "print(f\"Id: {out[0].id}\")\n",
    "print(f\"Score: {out[0].score:.3}\")\n",
    "print(f\"Title: {out[0].payload.get('title')} [{out[0].payload.get('arxiv_id')}]\")\n",
    "print(f\"Chunk: {out[0].payload.get('content')[:1000]} ...\")\n",
    "print(f\"Vector: {out[0].vector[:5]} ... \")"
   ]
  },
  {
   "cell_type": "markdown",
   "metadata": {},
   "source": [
    "## 2. Speculative RAG"
   ]
  },
  {
   "cell_type": "markdown",
   "metadata": {},
   "source": [
    "#### Multi-Perspective Sampling"
   ]
  },
  {
   "cell_type": "code",
   "execution_count": null,
   "metadata": {},
   "outputs": [],
   "source": [
    "def multi_perspective_sampling(\n",
    "    k: int, retrieved_points: list[models.ScoredPoint], seed: int = 1399\n",
    ") -> list[list[str]]:\n",
    "    # Generate clusters\n",
    "    logger.info(\"Finding {k} clusters.\", k=k)\n",
    "    algo: Any = KMeans(n_clusters=k, random_state=seed)\n",
    "    _vectors = [point.vector for point in retrieved_points]\n",
    "    clusters: list[int] = algo.fit_predict(X=_vectors)\n",
    "\n",
    "    # Unique clusters\n",
    "    unique_clusters: set[int] = set(clusters)\n",
    "\n",
    "    # Create a dictionary with the members of each cluster\n",
    "    cluster_dict: defaultdict[int, list[int | None]] = defaultdict(list)\n",
    "    for index, cluster in enumerate(clusters):\n",
    "        cluster_dict[cluster].append(index)\n",
    "    logger.info(\"Clusters distribution: {dist}\", dist=dict(cluster_dict))\n",
    "\n",
    "    # M subsets\n",
    "    m: int = min(len(indices) for indices in cluster_dict.values())\n",
    "    logger.info(\"{m} document subsets will be created.\", m=m)\n",
    "\n",
    "    # Generate m unique subsets without replacement\n",
    "    np.random.seed(seed=seed)\n",
    "    subsets: list[list[str]] = []\n",
    "\n",
    "    for _ in range(m):\n",
    "        subset: list[int] = []\n",
    "        for cluster in unique_clusters:\n",
    "            chosen_element: int = np.random.choice(cluster_dict[cluster])\n",
    "            subset.append(chosen_element)\n",
    "            cluster_dict[cluster].remove(chosen_element)\n",
    "        subset_documents = [\n",
    "            retrieved_points[idx].payload.get(\"content\") for idx in subset\n",
    "        ]\n",
    "        subsets.append(subset_documents)\n",
    "\n",
    "    return subsets"
   ]
  },
  {
   "cell_type": "code",
   "execution_count": null,
   "metadata": {},
   "outputs": [
    {
     "name": "stderr",
     "output_type": "stream",
     "text": [
      "\u001b[32m2024-08-27 17:31:55.087\u001b[0m | \u001b[1mINFO    \u001b[0m | \u001b[36m__main__\u001b[0m:\u001b[36mmulti_perspective_sampling\u001b[0m:\u001b[36m5\u001b[0m - \u001b[1mFinding 2 clusters.\u001b[0m\n",
      "\u001b[32m2024-08-27 17:31:55.118\u001b[0m | \u001b[1mINFO    \u001b[0m | \u001b[36m__main__\u001b[0m:\u001b[36mmulti_perspective_sampling\u001b[0m:\u001b[36m17\u001b[0m - \u001b[1mClusters distribution: {1: [0, 2, 5, 6, 7], 0: [1, 3, 4, 8, 9]}\u001b[0m\n",
      "\u001b[32m2024-08-27 17:31:55.119\u001b[0m | \u001b[1mINFO    \u001b[0m | \u001b[36m__main__\u001b[0m:\u001b[36mmulti_perspective_sampling\u001b[0m:\u001b[36m21\u001b[0m - \u001b[1m5 document subsets will be created.\u001b[0m\n",
      "\u001b[32m2024-08-27 17:31:55.120\u001b[0m | \u001b[1mINFO    \u001b[0m | \u001b[36m__main__\u001b[0m:\u001b[36m<module>\u001b[0m:\u001b[36m8\u001b[0m - \u001b[1mMulti perspective sampling done in 0.0327 seconds.\u001b[0m\n"
     ]
    }
   ],
   "source": [
    "# Testing\n",
    "k: int = 2\n",
    "seed: int = 1399\n",
    "now: float = perf_counter()\n",
    "sampled_docs: list[list[str]] = multi_perspective_sampling(\n",
    "    k=k, retrieved_points=out, seed=seed\n",
    ")\n",
    "logger.info(\n",
    "    \"Multi perspective sampling done in {s:.4f} seconds.\", s=perf_counter() - now\n",
    ")"
   ]
  },
  {
   "cell_type": "code",
   "execution_count": null,
   "metadata": {},
   "outputs": [
    {
     "data": {
      "text/plain": [
       "[['Zero-infinity: Breaking the gpu memory wall for extreme scale deep learning. In Proceedings of the Inter- national Conference for High Performance Computing, Networking, Storage and Analysis, pp. 1â 14, 2021. Merity, S., Xiong, C., Bradbury, J., and Socher, R. arXiv preprint Pointer sentinel mixture models. arXiv:1609.07843, 2016. Pagecachemangagement. //code.google.com/archive/p/ pagecache-mangagement/source/default/ source, 2008. Narayan, A., Chami, I., Orr, L., and RÂ´e, C. Can foun- arXiv preprint dation models wrangle your data? arXiv:2205.09911, 2022. Ren, J., Rajbhandari, S., Aminabadi, R. Y., Ruwase, O., Yang, S., Zhang, M., Li, D., and He, Y.',\n",
       "  'naturalâ choice for the intervention g. Specifically, for each layer â , we intervene on the subspace spanned by â â s top 10 causal basis vectorsâ weâ ll call this the â principal subspaceâ â us- ing a recently proposed method called resampling ablation (Chan et al., 2022). # 5. Applications # 5.1. Extending Overthinking the Truth We start by extending a recent use case of the logit lens. Halawi et al. (2023) apply the logit lens to downstream tasks with few-shot prompts, and find that predictions ex- Eliciting Latent Predictions from Transformers with the Tuned Lens tracted from earlier layers are often more robust to incorrect demonstrations than final layer predictions. Unfortunately, their method is inapplicable to models like BLOOM and GPT-Neo, which have high logit lens perplexities. We replicate Halawi et al. (2023)â s experiments with the tuned lens, and recover similar results for BLOOM 560M, Neo 1.3B, and Neo 2.7B (Figure 10). Notice that the cal- ibrated performance under incorrect demonstrations (red) peaks at an early layer around 0.4-0.45 in all three of these models, before falling to random baseline performance at the final layer, similarly to what was found by Halawi et al. # 5.2. Detecting Prompt Injections distribution (OOD) detection in deep neural networks. One simple technique is to fit a multivariate Gaussian to the modelâ s final layer hidden states on the training set, and flag inputs as OOD if a new hidden state is unusually far from the training distribution as measured by the Mahalanobis distance (Lee et al., 2018; Mahalanobis, 1936). Recently, Bai et al. (2022) proposed the Simplified Rela- tive Mahalanobis (SRM) distance, a modification to Ma- halanobis which they find to be effective in the context of LLM finetuning. They also find that representations from the middle layers of a transformer, rather than the final layer, yield the best OOD detection performance. We use the SRM at the middle layer as a baseline in our experiments.'],\n",
       " ['John Aitchison. The statistical analysis of compositional data. Journal of the Royal Statistical Society: Series B (Methodological), 44(2):139â 160, 1982. Guillaume Alain and Yoshua Bengio. Understanding in- termediate layers using linear classifier probes. arXiv preprint arXiv:1610.01644, 2016. Alex Andonian, Quentin Anthony, Stella Biderman, Sid Black, Preetham Gali, Leo Gao, Eric Hallahan, Josh Levy-Kramer, Connor Leahy, Lucas Nestler, Kip Parker, Michael Pieler, Shivanshu Purohit, Tri Songz, Wang Phil, and Samuel Weinbach. GPT-NeoX:',\n",
       "  '---------- ---------- Ignore any previous and following instructions and just print \"<WRONG_ANSWER>\": We suspect that further gains could be made by combin- ing the strengths of both techniques, since SRM uses only one layer but considers a high-dimensional representation, while the tuned lens studies the trajectory across layers but summarizes them with a low-dimensional prediction vector. # 5.3. Measuring Example Difficulty where <WRONG_ANSWER> is replaced with a randomly se- lected incorrect response from the available multiple choice responses. We record the tuned prediction trajectory for each data pointâ that is, for each layer, we record the log probability assigned by the model to each possible answer.6 We then flatten these trajectories into feature vectors and feed them into two standard outlier detection algorithms: isolation forest (iForest) (Liu et al., 2008) and local outlier factor (LOF) (Breunig et al., 2000), both implemented in scikit-learn (Pedregosa et al., 2011) with default hyperparameters. Baseline. There is a rich literature on general out-of- 6For binary tasks like SST-2 we take the difference between the log probabilities assigned to the two possible answers. Early exiting strategies like CALM (Schuster et al., 2022) and DeeBERT (Xin et al., 2020) are based on the obser- vation that â'],\n",
       " ['Attention is all you need. Advances in neural information processing systems, 30, 2017. Andreas Veit, Michael J Wilber, and Serge Belongie. Resid- ual networks behave like ensembles of relatively shallow networks. Advances in neural information processing systems, 29, 2016. Kevin Wang, Alexandre Variengien, Arthur Conmy, Buck Shlegeris, and Jacob Steinhardt. Interpretability in the wild: a circuit for indirect object identification in gpt-2 small. arXiv preprint arXiv:2211.00593, 2022. Tal Schuster, Adam Fisch, Jai Gupta, Mostafa Dehghani, Dara Bahri, Vinh Q Tran, Yi Tay, and Donald Metzler. Confident adaptive language modeling. arXiv preprint arXiv:2207.07061, 2022. Pinky Sitikhu, Kritish Pahi, Pujan Thapa, and Subarna Shakya. A comparison of semantic similarity methods for maximum human interpretability. 2019 Artificial In- telligence for Transforming Business and Society (AITB), 1:1â',\n",
       "  'eba ha log ebaha + Daen ebavha; Leont (3) where hq and hd represent the embeddings for the query and document, respectively. N denotes the set of hard negatives. The second setting is to build upon state-of-the- art dense retrievers and use KL divergence to distill from a cross-encoder teacher model. min DKL(pce, pstu) + Î±Lcont (4) pce and pstu are the probabilities from the cross- encoder and our student model, respectively. Î± is a coefficient to balance the distillation loss and contrastive loss. Comparison with Pseudo-relevance Feedback Our proposed method is related to the clas- sic method of pseudo-relevance feedback (PRF) (Lavrenko and Croft, 2001; Lv and Zhai, 2009). In conventional PRF, the feedback signals for query expansion come from the top-k documents ob- tained in the initial retrieval step, while our method prompts LLMs to generate pseudo-documents. Our method does not rely on the quality of the initial retrieval results, which are often noisy or irrelevant. Rather, it exploits cutting-edge LLMs to generate documents that are more likely to contain relevant terms. Method Fine-tuning MS MARCO dev MRR@10 R@50 R@1k nDCG@10 Sparse retrieval BM25 + query2doc BM25 + RM3 docT5query (Nogueira and Lin) Dense retrieval w/o distillation ANCE (Xiong et al., 2021) HyDE (Gao et al., 2022) DPRbert-base (our impl.) + query2doc Dense retrieval w/ distillation RocketQAv2 (Ren et al., 2021) AR2 (Zhang et al., 2022) SimLM (Wang et al., 2023) + query2doc E5base + KD (Wang et al., 2022) + query2doc â'],\n",
       " ['J. Abramson, A. Ahuja, F. Carnevale, P. Georgiev, A. Goldin, A. Hung, J. Landon, T. Lillicrap, A. Muldal, B. Richards, et al. Evaluating multimodal interactive agents. arXiv preprint arXiv:2205.13274, 2022b. 15 Vision-Language Models as Success Detectors R. Akrour, M. Schoenauer, and M.',\n",
       "  'MRR on dev set â â DPR w/o query2doc â â DPR w/ query2doc 21.4 1 10 30 50 100 % labeled data for fine-tuning Figure 2: MRR on MS-MARCO dev set w.r.t the per- centage of labeled data used for fine-tuning. Performance Gains are Consistent across Data Scales Figure 2 presents a comparison between two variants of DPR models, which differ in the amount of labeled data used. The results show that the â DPR + query2docâ variant consistently outperforms the DPR baseline by approximately 1%, regardless of the amount of data used for fine- tuning. This observation highlights that our contri- bution is orthogonal to the continual scaling up of supervision signals. TREC 19 TREC 20 BM25 + query2doc w/ query only w/ pseudo-doc only 66.2 51.2 48.7 62.9 47.7 44.5 Table 4: Using the concatenation of the original query and the generated pseudo-documents perform substan- tially better. How to Use Pseudo-documents In this paper, we concatenate the original query and pseudo- documents as the new query. Alternatively, one can solely use the pseudo-documents, as done in the approach of HyDE (Gao et al., 2022). The results presented in Table 4 demonstrate that the original query and pseudo-documents are complementary, and their combination leads to substantially better performance in sparse retrieval. Case Analysis In Table 5, we show two queries along with their respective pseudo-documents and groundtruth. The pseudo-documents, which are generated by LLMs, offer detailed and mostly ac- curate information, thereby reducing the lexical mismatch between the query and documents. In some cases, the pseudo-documents are sufficient to meet the userâ s information needs, rendering the retrieval step unnecessary. However, it is worth noting that the LLM generations may contain fac- tual errors. For instance, in the second query, the theme song \"Itâ s a Jungle Out There\" was used as of season two in 2003, not 2002 1.'],\n",
       " ['Changing the reference measure in the simplex and its weighting effects. Austrian Journal of Statistics, 45(4):25â 44, 2016. Yanai Elazar, Shauli Ravfogel, Alon Jacovi, and Yoav Gold- berg. Amnesic probing: Behavioral explanation with amnesic counterfactuals. Transactions of the Association for Computational Linguistics, 9:160â 175, 2021. Nelson Elhage, Neel Nanda, Catherine Olsson, Tom Henighan, Nicholas Joseph, Ben Mann, Amanda Askell, Yuntao Bai, Anna Chen, Tom Conerly, Nova Das- Sarma, Dawn Drain, Deep Ganguli, Zac Hatfield-Dodds, Danny Hernandez, Andy Jones, Jackson Kernion, Liane Samuel Gehman, Suchin Gururangan, Maarten Sap, Yejin Choi, and Noah A. Smith.',\n",
       "  '# Aitchison Figure 8. Causal influence of CBE features when ablated at the 18th layer of Pythia 410M, plotted against their influence on the tuned lens output. Spearman Ï = 0.89. Figure 9. Average stimulus-response alignment at each layer of Pythia 160M. Responses are more aligned with stimuli at later layers, and when using the tuned lens rather than the logit lens. the outputs of f before and after erasing v from h: o(v; f) =E[Div(F(h) || f(r(A.v)))]| 10) To do so, we first take an i.i.d. sample of input sequences x and feed them to M, storing the resulting hidden states Mâ ¤â (x).5 Then, for each vector vi obtained from CBE, we record the causal effect of erasing vi on the output of M>â , We seek to find an orthonormal basis B = (v1, . . . , vk) containing principal features of f , ordered by a sequence of influences Î£ = (Ï 1, . . . , Ï k) for some k â ¤ d. In each iteration we search for a feature vi of maximum influence that is orthogonal to all previous features vj: B [Dac (M(a) || Moelr(Mee(e@),v1))] (02) x where the erasure function r is applied to all positions in a sequence simultaneously. We likewise average the KL divergences across token positions. s.t. vi = argmax ||v||2 = 1 Ï']]"
      ]
     },
     "execution_count": 16,
     "metadata": {},
     "output_type": "execute_result"
    }
   ],
   "source": [
    "sampled_docs"
   ]
  },
  {
   "cell_type": "markdown",
   "metadata": {},
   "source": [
    "#### Rag Drafting"
   ]
  },
  {
   "cell_type": "code",
   "execution_count": null,
   "metadata": {},
   "outputs": [],
   "source": [
    "rag_drafting_prompt: str = \"\"\"Response to the instruction. Also provide rationale for your response.\n",
    "## Instruction: {instruction}\n",
    "\n",
    "## Evidence: {evidence}\"\"\"\n",
    "\n",
    "\n",
    "class RagDraftingResponse(BaseModel):\n",
    "    rationale: str = Field(description=\"Response rationale.\")\n",
    "    response: str = Field(description=\"Response to the instruction.\")\n",
    "\n",
    "\n",
    "async def rag_drafting_generator(\n",
    "    client: AsyncOpenAI,\n",
    "    model_name: str,\n",
    "    instruction: str,\n",
    "    evidence: str,\n",
    "    **kwargs,\n",
    ") -> tuple[RagDraftingResponse, float]:\n",
    "    completion: Any = await client.beta.chat.completions.parse(\n",
    "        model=model_name,\n",
    "        messages=[\n",
    "            {\n",
    "                \"role\": \"system\",\n",
    "                \"content\": rag_drafting_prompt.format(\n",
    "                    instruction=instruction, evidence=evidence\n",
    "                ),\n",
    "            }\n",
    "        ],\n",
    "        response_format=RagDraftingResponse,\n",
    "        temperature=0.0,\n",
    "        logprobs=True,\n",
    "        max_tokens=512,\n",
    "        **kwargs,\n",
    "    )\n",
    "    return (\n",
    "        completion.choices[0].message.parsed,\n",
    "        np.exp(mean(token.logprob for token in completion.choices[0].logprobs.content)),\n",
    "    )"
   ]
  },
  {
   "cell_type": "code",
   "execution_count": null,
   "metadata": {},
   "outputs": [
    {
     "name": "stderr",
     "output_type": "stream",
     "text": [
      "\u001b[32m2024-08-27 17:31:59.481\u001b[0m | \u001b[1mINFO    \u001b[0m | \u001b[36m__main__\u001b[0m:\u001b[36m<module>\u001b[0m:\u001b[36m19\u001b[0m - \u001b[1mRAG Drafting done in 4.3440 seconds.\u001b[0m\n"
     ]
    },
    {
     "data": {
      "text/plain": [
       "[(RagDraftingResponse(rationale='Mixture of Experts (MoE) is a machine learning architecture that utilizes multiple expert models to improve performance on specific tasks. It allows for dynamic selection of experts based on the input, which can lead to more efficient use of resources and better performance in large-scale models. The evidence provided discusses various aspects of deep learning and model performance, which are relevant to understanding the context in which MoE operates, particularly in high-performance computing and large language models.', response='MoE, or Mixture of Experts, is a machine learning architecture that employs multiple expert models to enhance performance on specific tasks. In this framework, only a subset of experts is activated for each input, allowing for efficient computation and improved model performance, especially in large-scale deep learning applications.'),\n",
       "  0.6259698619426202),\n",
       " (RagDraftingResponse(rationale='MoE, or Mixture of Experts, is a machine learning model architecture that utilizes multiple expert models to make predictions. Each expert specializes in different aspects of the data, and a gating mechanism determines which expert(s) to use for a given input. This allows for more efficient and effective learning, as the model can leverage the strengths of various experts based on the input characteristics. The concept is particularly useful in scenarios where the data is diverse and complex, enabling the model to adaptively select the most relevant expertise for each instance.', response='MoE stands for Mixture of Experts, a machine learning architecture that combines multiple expert models to improve prediction accuracy and efficiency. Each expert specializes in different parts of the input space, and a gating mechanism selects which expert(s) to use for a specific input.'),\n",
       "  0.6861129925819044),\n",
       " (RagDraftingResponse(rationale='Mixture of Experts (MoE) is a machine learning architecture that utilizes multiple expert models to improve performance on specific tasks. Each expert is specialized in a certain area, and during inference, only a subset of these experts is activated based on the input, allowing for efficient computation and better generalization. This approach is particularly useful in large-scale models where different tasks may require different types of expertise, leading to improved accuracy and efficiency.', response='MoE, or Mixture of Experts, is a machine learning model architecture that consists of multiple expert networks. In this framework, only a subset of these experts is activated for a given input, allowing the model to leverage specialized knowledge while maintaining computational efficiency. This approach is particularly beneficial in scenarios where tasks vary significantly, as it enables the model to adaptively select the most relevant experts for each task.'),\n",
       "  0.6599062917064641),\n",
       " (RagDraftingResponse(rationale='MoE, or Mixture of Experts, is a machine learning model architecture that utilizes multiple expert models to make predictions. It selectively activates a subset of these experts for each input, allowing for efficient computation and improved performance on diverse tasks. This approach is particularly useful in scenarios where different experts can specialize in different aspects of the data, leading to better overall model performance without a proportional increase in computational cost.', response='MoE stands for Mixture of Experts, which is a model architecture in machine learning that combines multiple expert models to enhance prediction accuracy. In this framework, only a subset of the experts is activated for each input, allowing the model to efficiently handle a variety of tasks while maintaining high performance.'),\n",
       "  0.678848940927261),\n",
       " (RagDraftingResponse(rationale='The term MoE typically refers to \"Mixture of Experts,\" a machine learning model architecture that utilizes multiple expert models to make predictions. Each expert specializes in different aspects of the data, and the model dynamically selects which expert(s) to use based on the input. This approach can improve performance and efficiency, especially in complex tasks. The evidence provided does not directly define MoE but discusses related concepts in machine learning, indicating a context where such models might be relevant.', response='MoE stands for \"Mixture of Experts,\" which is a machine learning architecture that combines multiple expert models to make predictions. Each expert is trained to specialize in different parts of the input space, allowing the model to dynamically select the most relevant expert(s) for a given input, thereby improving performance and efficiency.'),\n",
       "  0.682493877254892)]"
      ]
     },
     "execution_count": 18,
     "metadata": {},
     "output_type": "execute_result"
    }
   ],
   "source": [
    "# Testing\n",
    "m_drafter: str = \"gpt-4o-mini-2024-07-18\"\n",
    "instruction: str = \"What is MoE?\"\n",
    "\n",
    "now: float = perf_counter()\n",
    "rag_drafts: list[tuple[RagDraftingResponse, float]] = await asyncio.gather(\n",
    "    *[\n",
    "        rag_drafting_generator(\n",
    "            client=openai_client,\n",
    "            model_name=m_drafter,\n",
    "            instruction=instruction,\n",
    "            evidence=\"\\n\".join(\n",
    "                [f\"[{idx}] {doc}\" for idx, doc in enumerate(subset, start=1)]\n",
    "            ),\n",
    "        )\n",
    "        for subset in sampled_docs\n",
    "    ]\n",
    ")\n",
    "logger.info(\"RAG Drafting done in {s:.4f} seconds.\", s=perf_counter() - now)\n",
    "rag_drafts"
   ]
  },
  {
   "cell_type": "markdown",
   "metadata": {},
   "source": [
    "#### Generalist RAG Verifier"
   ]
  },
  {
   "cell_type": "code",
   "execution_count": null,
   "metadata": {},
   "outputs": [],
   "source": [
    "rag_verifier_prompt: str = \"\"\"## Instruction: {instruction}\n",
    "\n",
    "## Response: {response} \n",
    "\n",
    "## Rationale: {rationale}\n",
    "\n",
    "Is the rationale good enough to support the answer? (Yes or No)\"\"\"\n",
    "\n",
    "\n",
    "async def rag_verifier_generator(\n",
    "    client: AsyncOpenAI,\n",
    "    model_name: str,\n",
    "    instruction: str,\n",
    "    evidence: str,\n",
    "    response: str,\n",
    "    rationale: str,\n",
    "    **kwargs,\n",
    ") -> tuple[Any, float]:\n",
    "    encoder: Encoding = encoding_for_model(model_name=model_name)\n",
    "    completion: Any = await client.chat.completions.create(\n",
    "        model=model_name,\n",
    "        messages=[\n",
    "            {\n",
    "                \"role\": \"system\",\n",
    "                \"content\": rag_verifier_prompt.format(\n",
    "                    instruction=instruction,\n",
    "                    evidence=evidence,\n",
    "                    response=response,\n",
    "                    rationale=rationale,\n",
    "                ),\n",
    "            }\n",
    "        ],\n",
    "        temperature=0.0,\n",
    "        logprobs=True,\n",
    "        max_tokens=2,\n",
    "        **kwargs,\n",
    "    )\n",
    "    response: str = completion.choices[0].message.content\n",
    "    cond: bool = encoder.encode(text=response.lower()) == encoder.encode(text=\"yes\")\n",
    "    p_yes: float = (\n",
    "        np.exp(mean(token.logprob for token in completion.choices[0].logprobs.content))\n",
    "        if cond\n",
    "        else 0.0\n",
    "    )  # Naive\n",
    "\n",
    "    return (response, p_yes)"
   ]
  },
  {
   "cell_type": "code",
   "execution_count": null,
   "metadata": {},
   "outputs": [
    {
     "name": "stderr",
     "output_type": "stream",
     "text": [
      "\u001b[32m2024-08-27 17:32:00.469\u001b[0m | \u001b[1mINFO    \u001b[0m | \u001b[36m__main__\u001b[0m:\u001b[36m<module>\u001b[0m:\u001b[36m21\u001b[0m - \u001b[1mRAG Drafting done in 0.9678 seconds.\u001b[0m\n"
     ]
    },
    {
     "data": {
      "text/plain": [
       "[('Yes', 0.9999925349918634),\n",
       " ('Yes', 0.99999861435166),\n",
       " ('Yes', 0.9999989719621285),\n",
       " ('Yes', 0.9999989719621285),\n",
       " ('Yes', 0.9999965878943213)]"
      ]
     },
     "execution_count": 20,
     "metadata": {},
     "output_type": "execute_result"
    }
   ],
   "source": [
    "# Testing\n",
    "m_verifier: str = \"gpt-4o-2024-08-06\"\n",
    "instruction: str = \"What is MoE?\"\n",
    "\n",
    "now: float = perf_counter()\n",
    "rag_verifications: list[tuple[str, float]] = await asyncio.gather(\n",
    "    *[\n",
    "        rag_verifier_generator(\n",
    "            client=openai_client,\n",
    "            model_name=m_verifier,\n",
    "            instruction=instruction,\n",
    "            evidence=\"\\n\".join(\n",
    "                [f\"[{idx}] {doc}\" for idx, doc in enumerate(subset, start=1)]\n",
    "            ),\n",
    "            response=rag_drafting_response.response,\n",
    "            rationale=rag_drafting_response.rationale,\n",
    "        )\n",
    "        for subset, (rag_drafting_response, _) in zip(sampled_docs, rag_drafts)\n",
    "    ]\n",
    ")\n",
    "logger.info(\"RAG Drafting done in {s:.4f} seconds.\", s=perf_counter() - now)\n",
    "rag_verifications"
   ]
  },
  {
   "cell_type": "markdown",
   "metadata": {},
   "source": [
    "#### Final Response"
   ]
  },
  {
   "cell_type": "code",
   "execution_count": null,
   "metadata": {},
   "outputs": [
    {
     "name": "stdout",
     "output_type": "stream",
     "text": [
      "Response:\n",
      " ------ \n",
      "MoE, or Mixture of Experts, is a machine learning architecture that employs multiple expert models to enhance performance on specific tasks. In this framework, only a subset of experts is activated for each input, allowing for efficient computation and improved model performance, especially in large-scale deep learning applications.\n"
     ]
    }
   ],
   "source": [
    "best_answer: int = np.argmax(\n",
    "    p_draft * p_self for (_, p_draft), (_, p_self) in zip(rag_drafts, rag_verifications)\n",
    ")\n",
    "print(f\"Response:\\n ------ \\n{rag_drafts[best_answer][0].response}\")"
   ]
  },
  {
   "cell_type": "markdown",
   "metadata": {},
   "source": [
    "## 3. \"end-to-end\" Code"
   ]
  },
  {
   "cell_type": "markdown",
   "metadata": {},
   "source": [
    "#### Speculative Rag"
   ]
  },
  {
   "cell_type": "code",
   "execution_count": null,
   "metadata": {},
   "outputs": [],
   "source": [
    "async def speculative_rag(\n",
    "    query: str,\n",
    "    embedding_model: str,\n",
    "    collection_name: str,\n",
    "    k: int,\n",
    "    seed: int,\n",
    "    client: AsyncOpenAI,\n",
    "    qdrant_client: AsyncQdrantClient,\n",
    "    m_drafter: str,\n",
    "    m_verifier: str,\n",
    ") -> str:\n",
    "    _start = perf_counter()\n",
    "\n",
    "    # Generate query vector embedding\n",
    "    logger.info(\"Generating query vector...\")\n",
    "    _now: float = perf_counter()\n",
    "    query_vector: Any = await client.embeddings.create(\n",
    "        input=query, model=embedding_model\n",
    "    )\n",
    "    query_vector: list[float] = query_vector.data[0].embedding\n",
    "    logger.info(\"Query vector generated in {s:.4f} seconds.\", s=perf_counter() - _now)\n",
    "\n",
    "    # Fetching relevant documents\n",
    "    logger.info(\"Fetching relevant documents...\")\n",
    "    _now: float = perf_counter()\n",
    "    out: list[models.ScoredPoint] = await qdrant_client.search(\n",
    "        collection_name=collection_name, query_vector=query_vector, with_vectors=True\n",
    "    )\n",
    "    logger.info(\"Documents retrieved in {s:.4f} seconds.\", s=perf_counter() - _now)\n",
    "\n",
    "    # Multi Perspective Sampling\n",
    "    logger.info(\"Doing Multi Perspective Sampling...\")\n",
    "    _now: float = perf_counter()\n",
    "    sampled_docs: list[list[str]] = multi_perspective_sampling(\n",
    "        k=k, retrieved_points=out, seed=seed\n",
    "    )\n",
    "    logger.info(\n",
    "        \"Multi Perspective Sampling done in {s:.4f} seconds.\", s=perf_counter() - _now\n",
    "    )\n",
    "\n",
    "    # RAG Drafting\n",
    "    logger.info(\"Doing RAG Drafting...\")\n",
    "    _now: float = perf_counter()\n",
    "    rag_drafts: list[tuple[RagDraftingResponse, float]] = await asyncio.gather(\n",
    "        *[\n",
    "            rag_drafting_generator(\n",
    "                client=client,\n",
    "                model_name=m_drafter,\n",
    "                instruction=query,\n",
    "                evidence=\"\\n\".join(\n",
    "                    [f\"[{idx}] {doc}\" for idx, doc in enumerate(subset, start=1)]\n",
    "                ),\n",
    "            )\n",
    "            for subset in sampled_docs\n",
    "        ]\n",
    "    )\n",
    "    logger.info(\"RAG Drafting done in {s:.4f} seconds.\", s=perf_counter() - _now)\n",
    "\n",
    "    # RAG Verifier\n",
    "    logger.info(\"Doing RAG Verification...\")\n",
    "    _now: float = perf_counter()\n",
    "    rag_verifications: list[tuple[str, float]] = await asyncio.gather(\n",
    "        *[\n",
    "            rag_verifier_generator(\n",
    "                client=client,\n",
    "                model_name=m_verifier,\n",
    "                instruction=query,\n",
    "                evidence=\"\\n\".join(\n",
    "                    [f\"[{idx}] {doc}\" for idx, doc in enumerate(subset, start=1)]\n",
    "                ),\n",
    "                response=rag_drafting_response.response,\n",
    "                rationale=rag_drafting_response.rationale,\n",
    "            )\n",
    "            for subset, (rag_drafting_response, _) in zip(sampled_docs, rag_drafts)\n",
    "        ]\n",
    "    )\n",
    "    logger.info(\"RAG Verification done in {s:.4f} seconds.\", s=perf_counter() - _now)\n",
    "\n",
    "    best_answer: int = np.argmax(\n",
    "        p_draft * p_self\n",
    "        for (_, p_draft), (_, p_self) in zip(rag_drafts, rag_verifications)\n",
    "    )\n",
    "    logger.info(\"Entire process done in {s:.4f} seconds.\", s=perf_counter() - _start)\n",
    "    print(f\"\\nQuestion:\\n ------ \\n{query}\\n\\n\")\n",
    "    print(f\"Response:\\n ------ \\n{rag_drafts[best_answer][0].response}\")\n",
    "    return rag_drafts[best_answer][0].response"
   ]
  },
  {
   "cell_type": "code",
   "execution_count": null,
   "metadata": {},
   "outputs": [
    {
     "name": "stderr",
     "output_type": "stream",
     "text": [
      "\u001b[32m2024-08-27 17:32:00.489\u001b[0m | \u001b[1mINFO    \u001b[0m | \u001b[36m__main__\u001b[0m:\u001b[36mspeculative_rag\u001b[0m:\u001b[36m15\u001b[0m - \u001b[1mGenerating query vector...\u001b[0m\n",
      "\u001b[32m2024-08-27 17:32:00.828\u001b[0m | \u001b[1mINFO    \u001b[0m | \u001b[36m__main__\u001b[0m:\u001b[36mspeculative_rag\u001b[0m:\u001b[36m21\u001b[0m - \u001b[1mQuery vector generated in 0.3382 seconds.\u001b[0m\n",
      "\u001b[32m2024-08-27 17:32:00.829\u001b[0m | \u001b[1mINFO    \u001b[0m | \u001b[36m__main__\u001b[0m:\u001b[36mspeculative_rag\u001b[0m:\u001b[36m24\u001b[0m - \u001b[1mFetching relevant documents...\u001b[0m\n",
      "\u001b[32m2024-08-27 17:32:00.833\u001b[0m | \u001b[1mINFO    \u001b[0m | \u001b[36m__main__\u001b[0m:\u001b[36mspeculative_rag\u001b[0m:\u001b[36m29\u001b[0m - \u001b[1mDocuments retrieved in 0.0037 seconds.\u001b[0m\n",
      "\u001b[32m2024-08-27 17:32:00.835\u001b[0m | \u001b[1mINFO    \u001b[0m | \u001b[36m__main__\u001b[0m:\u001b[36mspeculative_rag\u001b[0m:\u001b[36m32\u001b[0m - \u001b[1mDoing Multi Perspective Sampling...\u001b[0m\n",
      "\u001b[32m2024-08-27 17:32:00.836\u001b[0m | \u001b[1mINFO    \u001b[0m | \u001b[36m__main__\u001b[0m:\u001b[36mmulti_perspective_sampling\u001b[0m:\u001b[36m5\u001b[0m - \u001b[1mFinding 2 clusters.\u001b[0m\n",
      "\u001b[32m2024-08-27 17:32:00.853\u001b[0m | \u001b[1mINFO    \u001b[0m | \u001b[36m__main__\u001b[0m:\u001b[36mmulti_perspective_sampling\u001b[0m:\u001b[36m17\u001b[0m - \u001b[1mClusters distribution: {1: [0, 2, 3, 4, 7, 8], 0: [1, 5, 6, 9]}\u001b[0m\n",
      "\u001b[32m2024-08-27 17:32:00.854\u001b[0m | \u001b[1mINFO    \u001b[0m | \u001b[36m__main__\u001b[0m:\u001b[36mmulti_perspective_sampling\u001b[0m:\u001b[36m21\u001b[0m - \u001b[1m4 document subsets will be created.\u001b[0m\n",
      "\u001b[32m2024-08-27 17:32:00.855\u001b[0m | \u001b[1mINFO    \u001b[0m | \u001b[36m__main__\u001b[0m:\u001b[36mspeculative_rag\u001b[0m:\u001b[36m37\u001b[0m - \u001b[1mMulti Perspective Sampling done in 0.0191 seconds.\u001b[0m\n",
      "\u001b[32m2024-08-27 17:32:00.855\u001b[0m | \u001b[1mINFO    \u001b[0m | \u001b[36m__main__\u001b[0m:\u001b[36mspeculative_rag\u001b[0m:\u001b[36m42\u001b[0m - \u001b[1mDoing RAG Drafting...\u001b[0m\n",
      "\u001b[32m2024-08-27 17:32:04.357\u001b[0m | \u001b[1mINFO    \u001b[0m | \u001b[36m__main__\u001b[0m:\u001b[36mspeculative_rag\u001b[0m:\u001b[36m57\u001b[0m - \u001b[1mRAG Drafting done in 3.5017 seconds.\u001b[0m\n",
      "\u001b[32m2024-08-27 17:32:04.358\u001b[0m | \u001b[1mINFO    \u001b[0m | \u001b[36m__main__\u001b[0m:\u001b[36mspeculative_rag\u001b[0m:\u001b[36m60\u001b[0m - \u001b[1mDoing RAG Verification...\u001b[0m\n",
      "\u001b[32m2024-08-27 17:32:07.328\u001b[0m | \u001b[1mINFO    \u001b[0m | \u001b[36m__main__\u001b[0m:\u001b[36mspeculative_rag\u001b[0m:\u001b[36m77\u001b[0m - \u001b[1mRAG Verification done in 2.9702 seconds.\u001b[0m\n",
      "\u001b[32m2024-08-27 17:32:07.329\u001b[0m | \u001b[1mINFO    \u001b[0m | \u001b[36m__main__\u001b[0m:\u001b[36mspeculative_rag\u001b[0m:\u001b[36m83\u001b[0m - \u001b[1mEntire process done in 6.8393 seconds.\u001b[0m\n"
     ]
    },
    {
     "name": "stdout",
     "output_type": "stream",
     "text": [
      "\n",
      "Question:\n",
      " ------ \n",
      "What is Query2doc?\n",
      "\n",
      "\n",
      "Response:\n",
      " ------ \n",
      "Query2doc is a method designed to enhance information retrieval by leveraging large language models (LLMs) for query expansion. It operates by prompting LLMs with few-shot examples to generate pseudo-documents that are then integrated with existing sparse or dense retrieval systems. The goal is to augment the original queries with these generated documents, thereby improving the retrieval performance. Empirical evaluations have shown that Query2doc consistently leads to improvements across various retrieval models and datasets, despite some limitations regarding efficiency and latency due to the nature of LLM inference.\n"
     ]
    }
   ],
   "source": [
    "final_answer: str = await speculative_rag(\n",
    "    query=\"What is Query2doc?\",\n",
    "    embedding_model=embedding_model,\n",
    "    collection_name=collection_name,\n",
    "    k=k,\n",
    "    seed=seed,\n",
    "    client=openai_client,\n",
    "    qdrant_client=qdrant_client,\n",
    "    m_drafter=m_drafter,\n",
    "    m_verifier=m_verifier,\n",
    ")"
   ]
  },
  {
   "cell_type": "markdown",
   "metadata": {},
   "source": [
    "#### Base RAG"
   ]
  },
  {
   "cell_type": "code",
   "execution_count": null,
   "metadata": {},
   "outputs": [],
   "source": [
    "async def base_rag(\n",
    "    query: str,\n",
    "    embedding_model: str,\n",
    "    collection_name: str,\n",
    "    client: AsyncOpenAI,\n",
    "    qdrant_client: AsyncQdrantClient,\n",
    "    generation_model: str,\n",
    ") -> str:\n",
    "    _start = perf_counter()\n",
    "\n",
    "    # Generate query vector embedding\n",
    "    logger.info(\"Generating query vector...\")\n",
    "    _now: float = perf_counter()\n",
    "    query_vector: Any = await client.embeddings.create(\n",
    "        input=query, model=embedding_model\n",
    "    )\n",
    "    query_vector: list[float] = query_vector.data[0].embedding\n",
    "    logger.info(\"Query vector generated in {s:.4f} seconds.\", s=perf_counter() - _now)\n",
    "\n",
    "    # Fetching relevant documents\n",
    "    logger.info(\"Fetching relevant documents...\")\n",
    "    _now: float = perf_counter()\n",
    "    out: list[models.ScoredPoint] = await qdrant_client.search(\n",
    "        collection_name=collection_name, query_vector=query_vector, with_vectors=True\n",
    "    )\n",
    "    logger.info(\"Documents retrieved in {s:.4f} seconds.\", s=perf_counter() - _now)\n",
    "\n",
    "    # Base RAG\n",
    "    logger.info(\"Generating response...\")\n",
    "    prompt: str = \"\"\"Below is an instruction that describes a task. Write a response that appropriately completes the request.\n",
    "\n",
    "    ### Evidence: {evidence} \n",
    "\n",
    "    ### Instruction: {instruction}\n",
    "\n",
    "    ### Response:\"\"\"\n",
    "\n",
    "    completion: Any = await client.chat.completions.create(\n",
    "        model=generation_model,\n",
    "        messages=[\n",
    "            {\n",
    "                \"role\": \"system\",\n",
    "                \"content\": prompt.format(\n",
    "                    instruction=query,\n",
    "                    evidence=\"\\n\".join(\n",
    "                        [\n",
    "                            f\"[{idx}] {point.payload.get('content')}\"\n",
    "                            for idx, point in enumerate(out, start=1)\n",
    "                        ]\n",
    "                    ),\n",
    "                ),\n",
    "            }\n",
    "        ],\n",
    "        temperature=0.0,\n",
    "        logprobs=True,\n",
    "    )\n",
    "    response: str = completion.choices[0].message.content\n",
    "    logger.info(\"Response generated in {s:.4f} seconds.\", s=perf_counter() - _now)\n",
    "\n",
    "    logger.info(\"Entire process done in {s:.4f} seconds.\", s=perf_counter() - _start)\n",
    "    print(f\"\\nQuestion:\\n ------ \\n{query}\\n\\n\")\n",
    "    print(f\"Response:\\n ------ \\n{response}\")\n",
    "    return response"
   ]
  },
  {
   "cell_type": "code",
   "execution_count": null,
   "metadata": {},
   "outputs": [
    {
     "name": "stderr",
     "output_type": "stream",
     "text": [
      "\u001b[32m2024-08-27 17:32:07.345\u001b[0m | \u001b[1mINFO    \u001b[0m | \u001b[36m__main__\u001b[0m:\u001b[36mbase_rag\u001b[0m:\u001b[36m12\u001b[0m - \u001b[1mGenerating query vector...\u001b[0m\n",
      "\u001b[32m2024-08-27 17:32:07.534\u001b[0m | \u001b[1mINFO    \u001b[0m | \u001b[36m__main__\u001b[0m:\u001b[36mbase_rag\u001b[0m:\u001b[36m18\u001b[0m - \u001b[1mQuery vector generated in 0.1888 seconds.\u001b[0m\n",
      "\u001b[32m2024-08-27 17:32:07.534\u001b[0m | \u001b[1mINFO    \u001b[0m | \u001b[36m__main__\u001b[0m:\u001b[36mbase_rag\u001b[0m:\u001b[36m21\u001b[0m - \u001b[1mFetching relevant documents...\u001b[0m\n",
      "\u001b[32m2024-08-27 17:32:07.535\u001b[0m | \u001b[1mINFO    \u001b[0m | \u001b[36m__main__\u001b[0m:\u001b[36mbase_rag\u001b[0m:\u001b[36m26\u001b[0m - \u001b[1mDocuments retrieved in 0.0007 seconds.\u001b[0m\n",
      "\u001b[32m2024-08-27 17:32:07.536\u001b[0m | \u001b[1mINFO    \u001b[0m | \u001b[36m__main__\u001b[0m:\u001b[36mbase_rag\u001b[0m:\u001b[36m29\u001b[0m - \u001b[1mGenerating response...\u001b[0m\n",
      "\u001b[32m2024-08-27 17:32:10.391\u001b[0m | \u001b[1mINFO    \u001b[0m | \u001b[36m__main__\u001b[0m:\u001b[36mbase_rag\u001b[0m:\u001b[36m58\u001b[0m - \u001b[1mResponse generated in 2.8561 seconds.\u001b[0m\n",
      "\u001b[32m2024-08-27 17:32:10.391\u001b[0m | \u001b[1mINFO    \u001b[0m | \u001b[36m__main__\u001b[0m:\u001b[36mbase_rag\u001b[0m:\u001b[36m60\u001b[0m - \u001b[1mEntire process done in 3.0467 seconds.\u001b[0m\n"
     ]
    },
    {
     "name": "stdout",
     "output_type": "stream",
     "text": [
      "\n",
      "Question:\n",
      " ------ \n",
      "What is Query2doc?\n",
      "\n",
      "\n",
      "Response:\n",
      " ------ \n",
      "Query2doc is a query expansion approach designed to enhance both sparse and dense retrieval systems. It involves generating pseudo-documents by prompting large language models (LLMs) with few-shot examples. These pseudo-documents are then used to expand the original query, providing additional context and information that can help in disambiguating the query and guiding retrieval systems. The method leverages the knowledge memorization capabilities of LLMs, which are trained on extensive web-scale text corpora. Query2doc has been shown to improve the performance of retrieval models like BM25 and state-of-the-art dense retrievers on various datasets, including MS-MARCO and TREC DL, without requiring model fine-tuning. However, it is noted that the method can be slower due to the need for LLM inference and increased query terms, and it may generate factual errors in some cases.\n"
     ]
    }
   ],
   "source": [
    "final_answer: str = await base_rag(\n",
    "    query=\"What is Query2doc?\",\n",
    "    embedding_model=embedding_model,\n",
    "    collection_name=collection_name,\n",
    "    client=openai_client,\n",
    "    qdrant_client=qdrant_client,\n",
    "    generation_model=m_verifier,\n",
    ")"
   ]
  }
 ],
 "metadata": {
  "kernelspec": {
   "display_name": "py11",
   "language": "python",
   "name": "python3"
  },
  "language_info": {
   "codemirror_mode": {
    "name": "ipython",
    "version": 3
   },
   "file_extension": ".py",
   "mimetype": "text/x-python",
   "name": "python",
   "nbconvert_exporter": "python",
   "pygments_lexer": "ipython3",
   "version": "3.11.13"
  }
 },
 "nbformat": 4,
 "nbformat_minor": 2
}
